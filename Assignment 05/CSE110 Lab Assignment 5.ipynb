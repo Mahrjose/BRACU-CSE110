{
 "cells": [
  {
   "cell_type": "markdown",
   "source": [
    "# CSE110 Lab Assignment 5\n",
    "\n",
    "This Assignment is to help you develop your concept of Tuples and Dictionaries in Python."
   ],
   "metadata": {
    "id": "U4PRkuyUtDRw"
   }
  },
  {
   "cell_type": "markdown",
   "source": [
    "## Write the code in Python to do the following tasks:\n",
    "\n",
    "**<font color='red'>[MUST MAINTAIN VARIABLE NAMING CONVENTIONS FOR ALL THE TASKS]</font>**\n",
    "\n",
    "## Part 1: Tuple"
   ],
   "metadata": {
    "id": "PD425BrvtDRy"
   }
  },
  {
   "cell_type": "markdown",
   "source": [
    "### Task 1\n",
    "\n",
    "Assume, you have been given a tuple.\n",
    "\n",
    "a_tuple = (\"The Institute\",\\\n",
    "        (\"Best Mystery & Thriller\", \"The Silent Patient\", 68821),\\\n",
    "        75717,\\\n",
    "        [1, 2, 3, 400, 5, 6, 7],\\\n",
    "        (\"Best Fiction\", \"The Testaments\", 98291)\\\n",
    ")\n",
    "\n",
    "Write **one line** of Python code to access and print the value 400.\n",
    "\n",
    "===================================================================\n",
    "\n",
    "Output: 400\n",
    "\n",
    "===================================================================\n"
   ],
   "metadata": {
    "id": "FNOorLYXtDRz"
   }
  },
  {
   "cell_type": "code",
   "execution_count": 40,
   "source": [
    "a_tuple = (\r\n",
    "    \"The Institute\",\r\n",
    "    (\"Best Mystery & Thriller\", \"The Silent Patient\", 68821),\r\n",
    "    75717,\r\n",
    "    [1, 2, 3, 400, 5, 6, 7],\r\n",
    "    (\"Best Fiction\", \"The Testaments\", 98291),\r\n",
    ")\r\n",
    "\r\n",
    "print(a_tuple[3][3])\r\n"
   ],
   "outputs": [
    {
     "output_type": "stream",
     "name": "stdout",
     "text": [
      "400\n"
     ]
    }
   ],
   "metadata": {
    "id": "NDKB1cIMtDR0"
   }
  },
  {
   "cell_type": "markdown",
   "source": [
    "### Task 2\n",
    "\n",
    "Assume, you have been given a tuple. Write a Python program that creates a **new tuple** excluding the first and last two elements of the given tuple and prints the new tuple. \n",
    "\n",
    "**Hint:** You may use tuple slicing.\n",
    "\n",
    "===================================================================\n",
    "\n",
    "**Sample Input 1:**\\\n",
    "(10, 20, 24, 25, 26, 35, 70)\n",
    "\n",
    "\n",
    "**Sample Output 1:**\\\n",
    "(24, 25, 26)\n",
    "\n",
    "===================================================================\n",
    "\n",
    "**Sample Input 2:**\\\n",
    "(-10, 20, 30, 40)\n",
    "\n",
    "\n",
    "**Sample Output 2:**\\\n",
    "()\n",
    "\n",
    "===================================================================\n",
    "\n",
    "**Sample Input 3:**\\\n",
    "(-10, 20, 25, 30, 40)\n",
    "\n",
    "\n",
    "**Sample Output 3:**\\\n",
    "(25,)\n",
    "\n",
    "===================================================================\n"
   ],
   "metadata": {
    "id": "BXlIw1svtDR-"
   }
  },
  {
   "cell_type": "code",
   "execution_count": 12,
   "source": [
    "#taking input from user\r\n",
    "a_tuple = tuple(int(item) for item in input()[1:-1].split(\",\"))\r\n",
    "new_tuple = (a_tuple[2:-2])\r\n",
    "print(new_tuple)\r\n",
    "\r\n",
    "#Without taking input from user\r\n",
    "#a_tuple = (-10, 20, 25, 30, 40)\r\n",
    "#new_tuple = (a_tuple[2:-2])\r\n",
    "#print(a_tuple)\r\n",
    "#print(new_tuple)"
   ],
   "outputs": [
    {
     "output_type": "stream",
     "name": "stdout",
     "text": [
      "(-10, 20, 25, 30, 40)\n",
      "(25,)\n"
     ]
    }
   ],
   "metadata": {
    "id": "FTJ-5AmNtDR_"
   }
  },
  {
   "cell_type": "markdown",
   "source": [
    "### Task 3\n",
    "\n",
    "Assume, you have been given a tuple. \n",
    "\n",
    "\n",
    "book_info = (\\\n",
    "    (\"Best Mystery & Thriller\",\"The Silent Patient\",68,821),\\\n",
    "    (\"Best Horror\",\"The Institute\",75,717),\\\n",
    "    (\"Best History & Biography\",\"The five\",31,783 ),\\\n",
    "    (\"Best Fiction\",\"The Testaments\",98,291)\\\n",
    ")\n",
    "\n",
    "Write a Python program that prints the size of the tuple and all its elements as shown below.\n",
    "\n",
    "===================================================================\n",
    "\n",
    "**Output:**\\\n",
    "Size of the tuple is: 4\\\n",
    "('Best Mystery & Thriller', 'The Silent Patient', 68, 821)\\\n",
    "('Best Horror', 'The Institute', 75, 717)\\\n",
    "('Best History & Biography', 'The five', 31, 783)\\\n",
    "('Best Fiction', 'The Testaments', 98, 291)\n",
    "\n",
    "==================================================================="
   ],
   "metadata": {
    "id": "Z3GS2TE6tDSG"
   }
  },
  {
   "cell_type": "code",
   "execution_count": 48,
   "source": [
    "book_info = (\r\n",
    "    (\"Best Mystery & Thriller\", \"The Silent Patient\", 68, 821),\r\n",
    "    (\"Best Horror\", \"The Institute\", 75, 717),\r\n",
    "    (\"Best History & Biography\", \"The five\", 31, 783),\r\n",
    "    (\"Best Fiction\", \"The Testaments\", 98, 291),\r\n",
    ")\r\n",
    "\r\n",
    "tuple_len = len(book_info)\r\n",
    "print(f\"Size of the tuple is: {tuple_len}\")\r\n",
    "\r\n",
    "for item in book_info:\r\n",
    "    print(item)\r\n"
   ],
   "outputs": [
    {
     "output_type": "stream",
     "name": "stdout",
     "text": [
      "Size of the tuple is: 4\n",
      "('Best Mystery & Thriller', 'The Silent Patient', 68, 821)\n",
      "('Best Horror', 'The Institute', 75, 717)\n",
      "('Best History & Biography', 'The five', 31, 783)\n",
      "('Best Fiction', 'The Testaments', 98, 291)\n"
     ]
    }
   ],
   "metadata": {
    "id": "RPFYcAjntDSG"
   }
  },
  {
   "cell_type": "markdown",
   "source": [
    "### Task 4\n",
    "\n",
    "Assume, you have been given a tuple with details about books that won the Good Reads Choice Awards. \n",
    "\n",
    "book_info = (\\\n",
    "    (\"Best Mystery & Thriller\",\"The Silent Patient\",68821),\\\n",
    "    (\"Best Horror\",\"The Institute\",75717),\\\n",
    "    (\"Best History & Biography\",\"The five\",31783 ),\\\n",
    "    (\"Best Fiction\",\"The Testaments\",98291)\\\n",
    ")\n",
    "\n",
    "Write a Python program that prints the award category, the book name, and its total votes earned as shown below. \n",
    "\n",
    "**<font color='red'>[Must use Tuple unpacking for printing and need to handle the quotation marks as a part of the output]</font>**\n",
    "\n",
    "===================================================================\n",
    "\n",
    "**Output:**\\\n",
    "The Silent Patient won the 'Best Mystery & Thriller' category with 68821 votes\\\n",
    "The Institute won the 'Best Horror' category with 75717 votes\\\n",
    "The five won the 'Best History & Biography' category with 31783 votes\\\n",
    "The Testaments won the 'Best Fiction' category with 98291 votes\n",
    "\n",
    "==================================================================="
   ],
   "metadata": {
    "id": "glKgAPlGtDSK"
   }
  },
  {
   "cell_type": "code",
   "execution_count": 14,
   "source": [
    "book_info = (\r\n",
    "    (\"Best Mystery & Thriller\", \"The Silent Patient\", 68821),\r\n",
    "    (\"Best Horror\", \"The Institute\", 75717),\r\n",
    "    (\"Best History & Biography\", \"The five\", 31783),\r\n",
    "    (\"Best Fiction\", \"The Testaments\", 98291),\r\n",
    ")\r\n",
    "\r\n",
    "for item in book_info:\r\n",
    "    award, book_name, votes = item\r\n",
    "    print(f\"{book_name} won the '{award}' category with {votes} votes\")\r\n"
   ],
   "outputs": [
    {
     "output_type": "stream",
     "name": "stdout",
     "text": [
      "The Silent Patient won the 'Best Mystery & Thriller' category with 68821 votes\n",
      "The Institute won the 'Best Horror' category with 75717 votes\n",
      "The five won the 'Best History & Biography' category with 31783 votes\n",
      "The Testaments won the 'Best Fiction' category with 98291 votes\n"
     ]
    }
   ],
   "metadata": {
    "id": "LgTKpSGatDSM"
   }
  },
  {
   "cell_type": "markdown",
   "source": [
    "### Task 5\n",
    "Write a python program that takes an input from the user and finds the number of times that the input is present in a given tuple.\n",
    "\n",
    "===================================================================\n",
    "\n",
    "<b>Example 1: </b><br/>\n",
    "\n",
    "Given tuple: (10, 8, 5, 2, 10, 15, 10, 8, 5, 8, 8, 2) <br/>\n",
    "\n",
    "<b>Sample Input 1:</b> \n",
    "\n",
    "8<br/>\n",
    "\n",
    "<b>Sample Output 1: </b> <br/>\n",
    "\n",
    "8 appears 4 times in the tuple<br/>\n",
    "\n",
    "===================================================================\n",
    "\n",
    "<b> Example 2 </b><br/>\n",
    "\n",
    "Given tuple: (10, 8, 5, 2, 10, 15, 10, 8, 5, 8, 8, 2)<br/>\n",
    "\n",
    "<b>Sample Input 2:</b>\n",
    "\n",
    "1<br/>\n",
    "\n",
    "<b>Sample Output 2:</b><br/>\n",
    "\n",
    "1 appears 0 times in the tuple\n",
    "\n",
    "==================================================================="
   ],
   "metadata": {
    "id": "bRe9K_j55zpb"
   }
  },
  {
   "cell_type": "code",
   "execution_count": 15,
   "source": [
    "user_input = int(input())\r\n",
    "given_tuple = (10, 8, 5, 2, 10, 15, 10, 8, 5, 8, 8, 2)\r\n",
    "\r\n",
    "counter = 0\r\n",
    "for element in given_tuple:\r\n",
    "    if(element == user_input):\r\n",
    "        counter += 1\r\n",
    "print(f\"{user_input} appears {counter} times in the tuple\")"
   ],
   "outputs": [
    {
     "output_type": "stream",
     "name": "stdout",
     "text": [
      "1\n",
      "1 appears 0 times in the tuple\n"
     ]
    }
   ],
   "metadata": {
    "id": "mC-B1fpStDST"
   }
  },
  {
   "cell_type": "markdown",
   "source": [
    "### Task 6\n",
    "Write a Python program to reverse a given tuple. \n",
    "\n",
    " \n",
    "  <font color='red'>[You are not allowed to use tuple slicing]</font>\n",
    "  \n",
    "===================================================================\n",
    "\n",
    "<b>Note: </b>  Unlike lists, tuples are immutable. So, in order to reverse a tuple, we may need to convert it into a list first, then modify the list, and finally convert it back to a tuple. \n",
    "\n",
    "===================================================================\n",
    "\n",
    "<b>Example 1: </b><br/>\n",
    "\n",
    "Given tuple: ('a', 'b', 'c', 'd', 'e', 'f', 'g', 'h') <br/>\n",
    "\n",
    "<b> Output: </b> <br/>\n",
    "\n",
    "('h', 'g', 'f', 'e', 'd', 'c', 'b', 'a')<br/>\n",
    "\n",
    "\n",
    "===================================================================\n",
    "\n",
    "<b> Example 2: </b><br/>\n",
    "\n",
    "Given tuple: (10, 20, 30, 40, 50, 60)<br/>\n",
    "\n",
    "<b> Output: </b><br/>\n",
    "\n",
    "(60, 50, 40, 30, 20, 10)\n",
    "\n",
    "===================================================================\n"
   ],
   "metadata": {
    "id": "QWNi_JWr6AfC"
   }
  },
  {
   "cell_type": "code",
   "execution_count": 20,
   "source": [
    "#Tuple given in the code\r\n",
    "a_tuple = ('a', 'b', 'c', 'd', 'e', 'f', 'g', 'h')\r\n",
    "print(a_tuple)\r\n",
    "\r\n",
    "#Taking input from the user\r\n",
    "#a_tuple = tuple(int(item) if item.isdigit() else item for item in input()[1:-1].replace(\"'\",\"\").replace(\" \",\"\").split(\",\"))\r\n",
    "\r\n",
    "a_list = list(a_tuple)\r\n",
    "a_list.reverse()\r\n",
    "\r\n",
    "a_tuple = tuple(a_list)\r\n",
    "print(a_tuple)"
   ],
   "outputs": [
    {
     "output_type": "stream",
     "name": "stdout",
     "text": [
      "('a', 'b', 'c', 'd', 'e', 'f', 'g', 'h')\n",
      "('h', 'g', 'f', 'e', 'd', 'c', 'b', 'a')\n"
     ]
    }
   ],
   "metadata": {
    "id": "CJrUcYAN6Bkx"
   }
  },
  {
   "cell_type": "markdown",
   "source": [
    "## Part 2: Dictionary"
   ],
   "metadata": {
    "id": "km0QurTJtDSX"
   }
  },
  {
   "cell_type": "markdown",
   "source": [
    "### Task 7\n",
    "Suppose you are given two dictionaries.\\\n",
    "Now create a new dictionary \"marks\", merging the two dictionaries, **so that the original two dictionaries remain unchanged.**\n",
    "\n",
    "\n",
    "**Note:** You can use dictionary functions.\n",
    "\n",
    "===================================================================\n",
    "\n",
    "**Given:**\n",
    "\n",
    "{'Harry':15, 'Draco':8, 'Nevil':19}\n",
    "\n",
    "{'Ginie':18, 'Luna': 14}\n",
    "\n",
    "**Output:**\n",
    "\n",
    "{'Harry': 15, 'Draco': 8, 'Nevil': 19, 'Ginie': 18, 'Luna': 14}\n",
    "\n",
    "===================================================================\n",
    "\n",
    "**Given:**\n",
    "\n",
    "{'A':90, 'B': 0}\n",
    "\n",
    "{'C':50}\n",
    "\n",
    "**Output:**\n",
    "\n",
    "{'A': 90, 'B': 0, 'C': 50}\n",
    "\n",
    "===================================================================\n"
   ],
   "metadata": {
    "id": "kvV-HnCntDSc"
   }
  },
  {
   "cell_type": "code",
   "execution_count": 8,
   "source": [
    "#The question didn't ask me to input from the user. So, I can just use any 2 random dictionary? Right?\r\n",
    "dict_1 = {'Harry':15, 'Draco':8, 'Nevil':19}\r\n",
    "dict_2 = {'Ginie':18, 'Luna': 14}\r\n",
    "\r\n",
    "marks = {**dict_1, **dict_2}\r\n",
    "print(marks)"
   ],
   "outputs": [
    {
     "output_type": "stream",
     "name": "stdout",
     "text": [
      "{'Harry': 15, 'Draco': 8, 'Nevil': 19, 'Ginie': 18, 'Luna': 14}\n"
     ]
    }
   ],
   "metadata": {
    "id": "BGSyClBPtDSd"
   }
  },
  {
   "cell_type": "markdown",
   "source": [
    "### Task 8\n",
    "Write a Python program that takes a dictionary as an input from the user and then prints the average of all the values in the dictionary.\n",
    "\n",
    " <font color='red'>[You are not allowed to use len() and sum()]</font>\n",
    "\n",
    "===================================================================\n",
    "\n",
    "**Hint (1): For taking dictionary input** \n",
    "\n",
    "Approach(1): For taking dictionary as an input from the user, you may take the whole dictionary as a string using the input() function. Then you can use the split(), strip() functions and conditions to get the keys and values from the string. Finally, you can make the dictionary using the obtained data.\n",
    "\n",
    "Approach(2): If the first approach seems too difficult you can create an empty dictionary and then just run a simple loop. For each iteration ask the user for a key and a value using the input() function and keep updating the dictionary with the key and value.\n",
    "\n",
    "\n",
    "**Hint (2):** After you have a dictionary, you can use dictionary functions to get all the values from it, run loop to calculate the sum and the total number of values in the dictionary in order to find out the average.\n",
    "\n",
    "===================================================================\n",
    "\n",
    "**Sample Input 1:**\n",
    "\n",
    "{'Jon': 100, 'Dan':200, 'Rob':300}\n",
    "\n",
    "**Sample Output 1:**\n",
    "\n",
    "Average is 200.\n",
    "\n",
    "===================================================================\n",
    "\n",
    "\n",
    "**Sample Input 2:**\n",
    "\n",
    "{'Jon': 100, 'Dan':200, 'Rob':30, 'Ned':110}\n",
    "\n",
    "**Sample Output 2:**\n",
    "\n",
    "Average is 110.\n",
    "\n",
    "===================================================================\n"
   ],
   "metadata": {
    "id": "QRzP4HYStDSi"
   }
  },
  {
   "cell_type": "code",
   "execution_count": 65,
   "source": [
    "#Approach(1)\r\n",
    "\r\n",
    "dict_list = [item for item in input()[1:-1].replace(\"'\",\"\").replace(\" \",\"\").replace(\":\",\",\").split(\",\")]\r\n",
    "key_list = [item for item in dict_list[0::2]]\r\n",
    "value_list = [int(item) for item in dict_list[1::2]]\r\n",
    "\r\n",
    "#to know the length of key_list or value_list without using len() function since the question forbid me from using it\r\n",
    "list_len = 0\r\n",
    "for i in key_list:\r\n",
    "    list_len += 1 \r\n",
    "\r\n",
    "my_dict = {}\r\n",
    "for i in range(list_len):\r\n",
    "    my_dict[key_list[i]] = value_list[i]\r\n",
    "\r\n",
    "value_sum = 0\r\n",
    "for value in my_dict.values():\r\n",
    "    value_sum += value\r\n",
    "\r\n",
    "average = value_sum // list_len\r\n",
    "print(f\"Average is {average}\")"
   ],
   "outputs": [
    {
     "output_type": "stream",
     "name": "stdout",
     "text": [
      "{'Jon': 100, 'Dan':200, 'Rob':300}\n",
      "Average is 200\n"
     ]
    }
   ],
   "metadata": {
    "id": "VMRLnA53tDSk"
   }
  },
  {
   "cell_type": "code",
   "execution_count": 23,
   "source": [
    "#Approach(2)\r\n",
    "\r\n",
    "my_list = {}\r\n",
    "\r\n",
    "len_dict = int(input(\"Enter the length of the Dictionary: \"))\r\n",
    "for count in range(len_dict):\r\n",
    "    key, value = input(\"Input a key then a value separated by colon(:)- \").split(\":\")\r\n",
    "    my_list[key] = int(value)\r\n",
    "print(my_list)\r\n",
    "    \r\n",
    "value_sum = 0\r\n",
    "for value in my_list.values():\r\n",
    "    value_sum += value\r\n",
    "\r\n",
    "average = value_sum // len_dict\r\n",
    "print(f\"Average is {average}\")"
   ],
   "outputs": [
    {
     "output_type": "stream",
     "name": "stdout",
     "text": [
      "Enter the length of the Dictionary: 4\n",
      "Input a key then a value separated by colon(:)- Jon: 100\n",
      "Input a key then a value separated by colon(:)- Dan: 200\n",
      "Input a key then a value separated by colon(:)- Rob: 30\n",
      "Input a key then a value separated by colon(:)- Ned: 110\n",
      "{'Jon': 100, 'Dan': 200, 'Rob': 30, 'Ned': 110}\n",
      "Average is 110\n"
     ]
    }
   ],
   "metadata": {}
  },
  {
   "cell_type": "markdown",
   "source": [
    "### Task 9\n",
    "Suppose there is a dictionary named exam_marks as given below.\n",
    "\n",
    "exam_marks = {'Cierra Vega': 175, 'Alden Cantrell': 200, 'Kierra Gentry': 165, 'Pierre Cox': 190}\n",
    "\n",
    "Write a Python program that takes an input from the user and creates a new dictionary with only those elements from 'exam_marks' whose keys have values higher than the user input (inclusive).\n",
    "\n",
    "===================================================================\n",
    "\n",
    "**Sample Input 1:**\n",
    "\n",
    "170\n",
    "\n",
    "**Sample Output 1:**\n",
    "\n",
    "{'Cierra Vega': 175, 'Alden Cantrell': 200, 'Pierre Cox': 190}\n",
    "\n",
    "===================================================================\n",
    "\n",
    "**Sample Input 2:**\n",
    "\n",
    "190\n",
    "\n",
    "**Sample Output 2:**\n",
    "\n",
    "{'Alden Cantrell': 200, 'Pierre Cox': 190}\n",
    "\n",
    "==================================================================="
   ],
   "metadata": {
    "id": "le7fZ8XC9j_x"
   }
  },
  {
   "cell_type": "code",
   "execution_count": 42,
   "source": [
    "user_input = int(input())\r\n",
    "exam_marks = {'Cierra Vega': 175, 'Alden Cantrell': 200, 'Kierra Gentry': 165, 'Pierre Cox': 190}\r\n",
    "\r\n",
    "new_marks = exam_marks.copy()\r\n",
    "\r\n",
    "for key in exam_marks.keys():\r\n",
    "    if(new_marks[key] < user_input):\r\n",
    "        del new_marks[key]\r\n",
    "print(new_marks)"
   ],
   "outputs": [
    {
     "output_type": "stream",
     "name": "stdout",
     "text": [
      "170\n",
      "{'Cierra Vega': 175, 'Alden Cantrell': 200, 'Pierre Cox': 190}\n"
     ]
    }
   ],
   "metadata": {
    "id": "qJWoUsLN9lBY"
   }
  },
  {
   "cell_type": "markdown",
   "source": [
    "### Task 10\n",
    "Write a Python program that finds the largest value with its key from a given dictionary.  <font color='red'>[without using max() function]</font> \n",
    "\n",
    "**Note:** You do not need to take the dictionaries as an input from the user but your code should work for any given dictionary. Also, you need to handle the quotation marks as a part of the output.\n",
    "\n",
    "**Hint:** Think of membership operators (in and not in). You can use dictionary functions to get the values.\n",
    "\n",
    "===================================================================\n",
    "\n",
    "Sample 1:\n",
    "\n",
    "**Given:**\n",
    "\n",
    "{'sci fi': 12, 'mystery': 15, 'horror': 8, 'mythology': 10, 'young_adult': 4, 'adventure':14}\n",
    "\n",
    "**Output:**\n",
    "\n",
    "The highest selling book genre is 'mystery' and the number of books sold are 15.\n",
    "\n",
    "===================================================================\n",
    "\n",
    "Sample 2:\n",
    "\n",
    "**Given:**\n",
    "\n",
    "{'sci fi': 5, 'mystery': 3, 'horror': 14,\n",
    "             'young_adult': 2, 'adventure':9}\n",
    "\n",
    "**Output:**\n",
    "\n",
    "The highest selling book genre is  'horror'  and the number of books sold are 14.\n",
    "\n",
    "===================================================================\n"
   ],
   "metadata": {
    "id": "IsqFQpqKtDSs"
   }
  },
  {
   "cell_type": "code",
   "execution_count": 64,
   "source": [
    "#Taking input from the user\r\n",
    "\"\"\"\r\n",
    "dict_list = [item for item in input()[1:-1].replace(\"'\",\"\").replace(\" \",\"\").replace(\":\",\",\").split(\",\")]\r\n",
    "key_list = [item for item in dict_list[0::2]]\r\n",
    "value_list = [int(item) for item in dict_list[1::2]]\r\n",
    "\r\n",
    "dict = {}\r\n",
    "for count in range(len(key_list)):\r\n",
    "    dict[key_list[count]] = value_list[count]\r\n",
    "\"\"\"\r\n",
    "\r\n",
    "#Using a pre-made dictionary \r\n",
    "dict = {'sci fi': 5, 'mystery': 3, 'horror': 14, 'young_adult': 2, 'adventure':9}\r\n",
    "print(dict)\r\n",
    "\r\n",
    "max_value = 0\r\n",
    "for key in dict.keys():\r\n",
    "    if(dict[key] >= max_value):\r\n",
    "        max_value = dict[key]\r\n",
    "        max_key = key\r\n",
    "print(f\"The highest selling book genre is '{max_key}' and the number of books sold are {max_value}.\")"
   ],
   "outputs": [
    {
     "output_type": "stream",
     "name": "stdout",
     "text": [
      "{'sci fi': 5, 'mystery': 3, 'horror': 14, 'young_adult': 2, 'adventure': 9}\n",
      "The highest selling book genre is 'horror' and the number of books sold are 14.\n"
     ]
    }
   ],
   "metadata": {
    "id": "v9Kosgs4tDSt"
   }
  },
  {
   "cell_type": "markdown",
   "source": [
    "### Task 11\n",
    "Write a Python program that takes a String as an input from the user and counts the frequency of each character using a dictionary. For solving this problem, you may use each character as a key and its frequency as values. <font color='red'>[You are not allowed to use the count() function]</font> \n",
    "\n",
    "**Hint:** You can create a new dictionary to store the frequencies. You may ignore case for simplicity (i.e. may consider P and p to be the same).\n",
    "\n",
    "\n",
    "===================================================================\n",
    "\n",
    "**Sample Input:**\\\n",
    "\"Python programming is fun\"\n",
    "\n",
    "**Sample Output:**\\\n",
    "{'p': 2, 'y': 1, 't': 1, 'h': 1, 'o': 2, 'n': 3, 'r': 2, 'g': 2, 'a': 1, 'm': 2, 'i': 2, 's': 1, 'f': 1, 'u': 1}\n",
    "\n",
    "===================================================================\n",
    "\n"
   ],
   "metadata": {
    "id": "hAqjgwGNtDS2"
   }
  },
  {
   "cell_type": "code",
   "execution_count": 59,
   "source": [
    "#Input string Without (\"\")\r\n",
    "#str_input = input().replace(\" \",\"\").lower()\r\n",
    "\r\n",
    "#Input string With (\"\")\r\n",
    "str_input = input().replace('\"',\"\").replace(\" \",\"\").lower()\r\n",
    "dict = {}\r\n",
    "\r\n",
    "for char in str_input:\r\n",
    "    if(char in dict):\r\n",
    "        dict[char] += 1\r\n",
    "        continue\r\n",
    "    dict[char] = 1\r\n",
    "    \r\n",
    "print(dict)"
   ],
   "outputs": [
    {
     "output_type": "stream",
     "name": "stdout",
     "text": [
      "\"Python programming is fun\"\n",
      "{'p': 2, 'y': 1, 't': 1, 'h': 1, 'o': 2, 'n': 3, 'r': 2, 'g': 2, 'a': 1, 'm': 2, 'i': 2, 's': 1, 'f': 1, 'u': 1}\n"
     ]
    }
   ],
   "metadata": {
    "id": "-m2yPIT7tDS3"
   }
  },
  {
   "cell_type": "markdown",
   "source": [
    "### Task 12\n",
    "Suppose you are given the following dictionary where the values are lists. \n",
    "\n",
    "dict = {'A': [1, 2, 3], 'b': ['1', '2'], \"c\": [4, 5, 6, 7]}\n",
    "\n",
    "Write a Python program that counts the total number of items in a dictionary’s values and prints it. <font color='red'>[without using sum(), len(), count() functions]</font> \n",
    "\n",
    "**Note:**  Make changes to the above dictionary and see if your code works properly for other dictionaries as well.\n",
    "\n",
    "===================================================================\n",
    "\n",
    "**Output:**\n",
    "\n",
    "9\n",
    "\n",
    "===================================================================\n",
    "\n"
   ],
   "metadata": {
    "id": "QWf1zsBctDS6"
   }
  },
  {
   "cell_type": "code",
   "execution_count": 56,
   "source": [
    "dict = {'A': [1, 2, 3], 'b': ['1', '2'], \"c\": [4, 5, 6, 7]}\r\n",
    "count = 0\r\n",
    "\r\n",
    "for key, list_value in dict.items():\r\n",
    "    for item in list_value:\r\n",
    "        count += 1\r\n",
    "print(count)"
   ],
   "outputs": [
    {
     "output_type": "stream",
     "name": "stdout",
     "text": [
      "9\n"
     ]
    }
   ],
   "metadata": {
    "id": "atnD3A1utDS6"
   }
  },
  {
   "cell_type": "markdown",
   "source": [
    "### Task 13\n",
    "\n",
    "Suppose you have been given the following list of tuples. \n",
    "\n",
    "list = [(\"a\", 1), (\"b\", 2), (\"a\", 3), (\"b\", 1), (\"a\", 2), (\"c\", 1)]\n",
    "\n",
    "Write a Python program that converts this list of tuples into a dictionary and then prints the dictionary. <font color='red'>[You are not allowed to use set]</font> \n",
    "\n",
    "\n",
    "**Hint:** Think of membership operators (in and not in).\n",
    "\n",
    "===================================================================\n",
    "\n",
    "**Output:**\n",
    "\n",
    "{'a': [1, 3, 2], 'b': [2, 1], 'c': [1]}\n",
    "\n",
    " ===================================================================\n"
   ],
   "metadata": {
    "id": "-imuPb3EtDTD"
   }
  },
  {
   "cell_type": "code",
   "execution_count": 55,
   "source": [
    "a_list = [(\"a\", 1), (\"b\", 2), (\"a\", 3), (\"b\", 1), (\"a\", 2), (\"c\", 1)]\r\n",
    "a_dict = {}\r\n",
    "\r\n",
    "for a_tuple in a_list:\r\n",
    "    key, value = a_tuple\r\n",
    "    \r\n",
    "    if(key in a_dict):\r\n",
    "        a_dict[key].append(value)\r\n",
    "        continue\r\n",
    "    a_dict[key] = [value]\r\n",
    "    \r\n",
    "print(a_dict)"
   ],
   "outputs": [
    {
     "output_type": "stream",
     "name": "stdout",
     "text": [
      "{'a': [1, 3, 2], 'b': [2, 1], 'c': [1]}\n"
     ]
    }
   ],
   "metadata": {
    "id": "bBBcHpgYtDTE"
   }
  },
  {
   "cell_type": "markdown",
   "source": [
    "## Optional Tasks (14-18) [Ungraded]"
   ],
   "metadata": {
    "id": "UrxbFOWk5ASO"
   }
  },
  {
   "cell_type": "markdown",
   "source": [
    "### Task 14\n",
    "\n",
    "Given a list of tuples, your task is to multiply the elements of the tuple and return a list of multiplied elements as shown below.\n",
    "\n",
    "===================================================================\n",
    "\n",
    "**Example 1:**\n",
    "\n",
    "Given: \n",
    "\n",
    "[(2, 3), (4, 5), (6, 7), (2, 8)]\n",
    "\n",
    "**Output:**\n",
    "\n",
    "[6, 20, 42, 16]\n",
    "\n",
    "===================================================================\n",
    "\n",
    "**Example 2:**\n",
    "\n",
    "Given:\n",
    "\n",
    " [(11, 22), (33, 55), (55, 77), (11, 44)]\n",
    "\n",
    "**Output:**\n",
    "\n",
    "[242, 1815, 4235, 484]\n",
    "\n",
    "==================================================================="
   ],
   "metadata": {
    "id": "vtQRbX994-Se"
   }
  },
  {
   "cell_type": "code",
   "execution_count": 68,
   "source": [
    "#Using a pre-made list\r\n",
    "#tup_list = [(2, 3), (4, 5), (6, 7), (2, 8)]\r\n",
    "tup_list = [(11, 22), (33, 55), (55, 77), (11, 44)]\r\n",
    "print(tup_list)\r\n",
    "new_list = []\r\n",
    "\r\n",
    "for a_tuple in tup_list:\r\n",
    "    new_list.append(a_tuple[0] * a_tuple[1])\r\n",
    "    \r\n",
    "print(new_list)"
   ],
   "outputs": [
    {
     "output_type": "stream",
     "name": "stdout",
     "text": [
      "[(11, 22), (33, 55), (55, 77), (11, 44)]\n",
      "[242, 1815, 4235, 484]\n"
     ]
    }
   ],
   "metadata": {}
  },
  {
   "cell_type": "code",
   "execution_count": 69,
   "source": [
    "#Taking input from the user\r\n",
    "tup_list = [int(item) for item in input()[2:-2].replace(\")\",\"\").replace(\"(\",\"\").replace(\" \",\"\").split(\",\")]\r\n",
    "new_list = []\r\n",
    "\r\n",
    "for item in tup_list[0::2]:\r\n",
    "    next_index = tup_list.index(item)+1\r\n",
    "    new_item = item * tup_list[next_index]\r\n",
    "    new_list.append(new_item)\r\n",
    "\r\n",
    "print(new_list)"
   ],
   "outputs": [
    {
     "output_type": "stream",
     "name": "stdout",
     "text": [
      "[(2, 3), (4, 5), (6, 7), (2, 8)]\n",
      "[6, 20, 42, 6]\n"
     ]
    }
   ],
   "metadata": {
    "id": "xy-E_k6y5maj"
   }
  },
  {
   "cell_type": "markdown",
   "source": [
    "### Task 15\n",
    "\n",
    "Assume, you have been given a tuple as below.\n",
    "\n",
    "a_tuple = ( [1, 2, 3], [4, 5, 6], [7, 8, 9], [10, 11, 12])\n",
    "\n",
    "Write a Python program that asks the user for an input (can be any data type) and **replaces the last element of each of the inner lists with the user given value.**\n",
    "\n",
    "===================================================================\n",
    "\n",
    "**Sample Input 1:**\n",
    "\n",
    "abc\n",
    "\n",
    "**Sample Output 1:** \n",
    "\n",
    "([1, 2, 'abc'], [4, 5, 'abc'], [7, 8, 'abc'], [10, 11, 'abc'])\n",
    "\n",
    "===================================================================\n",
    "\n",
    "**Sample Input 1:**\n",
    "\n",
    "1000\n",
    "\n",
    "**Sample Output 1:** \n",
    "\n",
    "([1, 2, '1000'], [4, 5, '1000'], [7, 8, '1000'], [10, 11, '1000'])\n",
    "\n",
    "==================================================================="
   ],
   "metadata": {
    "id": "jZQHbegc-QBA"
   }
  },
  {
   "cell_type": "code",
   "execution_count": 48,
   "source": [
    "user_input = input()\r\n",
    "a_tuple = ( [1, 2, 3], [4, 5, 6], [7, 8, 9], [10, 11, 12])\r\n",
    "\r\n",
    "for item in a_tuple:\r\n",
    "    item[-1] = user_input\r\n",
    "print(a_tuple)"
   ],
   "outputs": [
    {
     "output_type": "stream",
     "name": "stdout",
     "text": [
      "abc\n",
      "([1, 2, 'abc'], [4, 5, 'abc'], [7, 8, 'abc'], [10, 11, 'abc'])\n"
     ]
    }
   ],
   "metadata": {
    "id": "SjdnEjCz5op1"
   }
  },
  {
   "cell_type": "markdown",
   "source": [
    "### Task 16\n",
    "\n",
    "Suppose there is a dictionary named my_dictionary.\n",
    "\n",
    "my_dictionary = {'c1':'Red', 'c2':'Green', 'c3':None, 'd4':'Blue', 'a5':None}.\n",
    "\n",
    "Now write a Python program to remove empty items from the dictionary. [Empty items means keys without any values (None)].\n",
    "\n",
    "===================================================================\n",
    "\n",
    "**Output:**\n",
    "\n",
    "{'c1':'Red', 'c2':'Green', 'd4':'Blue'}\n",
    "\n",
    "==================================================================="
   ],
   "metadata": {
    "id": "dVZrZ8Od6WwM"
   }
  },
  {
   "cell_type": "code",
   "execution_count": 47,
   "source": [
    "my_dictionary = {'c1':'Red', 'c2':'Green', 'c3':None, 'd4':'Blue', 'a5':None}\r\n",
    "temp_dict = my_dictionary.copy()\r\n",
    "\r\n",
    "for key in temp_dict:\r\n",
    "    if(my_dictionary[key] == None):\r\n",
    "        del my_dictionary[key]\r\n",
    "print(my_dictionary)"
   ],
   "outputs": [
    {
     "output_type": "stream",
     "name": "stdout",
     "text": [
      "{'c1': 'Red', 'c2': 'Green', 'd4': 'Blue'}\n"
     ]
    }
   ],
   "metadata": {
    "id": "cK9Nh7-F6YUE"
   }
  },
  {
   "cell_type": "markdown",
   "source": [
    "### Task 17\n",
    "\n",
    "Suppose you are given a dictionary as shown below. Write a Python program that takes two inputs from the user representing the lower (inclusive) and upper (exclusive) of a range of values. Your task is to extract all the items from the dictionary whose values lie in the range given as input by the user.\n",
    "\n",
    "dictionary = {'a' : 6, 'b' : 7, 'c' : 9, 'd' : 8, 'e' : 11, 'f' : 12, 'g' : 13}\n",
    "\n",
    "===================================================================\n",
    "\n",
    "**Sample Input 1:**\n",
    "\n",
    "9, 12\n",
    "\n",
    "**Sample Output 1:**\n",
    "\n",
    "{'c': 9, 'e': 11}\n",
    "\n",
    "**Explanation:**  Keys with values within the range of 9 and 11 are extracted.\n",
    "\n",
    "===================================================================\n",
    "\n",
    "**Sample Input 2:** \n",
    "\n",
    "14, 18\n",
    "\n",
    "**Sample Output 2 :**\n",
    "\n",
    "{}\n",
    "\n",
    "**Explanation:**  No values in range.\n",
    "\n",
    "==================================================================="
   ],
   "metadata": {
    "id": "_W2bOMJn62xF"
   }
  },
  {
   "cell_type": "code",
   "execution_count": 46,
   "source": [
    "dictionary = {'a' : 6, 'b' : 7, 'c' : 9, 'd' : 8, 'e' : 11, 'f' : 12, 'g' : 13}\r\n",
    "new_dict = {}\r\n",
    "lower_value, upper_value = input().split(\",\")\r\n",
    "lower_value = int(lower_value)\r\n",
    "upper_value = int(upper_value)\r\n",
    "\r\n",
    "for key, value in dictionary.items():\r\n",
    "    if(value >= lower_value and value < upper_value):\r\n",
    "        new_dict[key] = value\r\n",
    "print(new_dict)"
   ],
   "outputs": [
    {
     "output_type": "stream",
     "name": "stdout",
     "text": [
      "9, 12\n",
      "{'c': 9, 'e': 11}\n"
     ]
    }
   ],
   "metadata": {
    "id": "MLh9VlLD633D"
   }
  },
  {
   "cell_type": "markdown",
   "source": [
    "### Task 18\n",
    "\n",
    "Given a list of tuples, your task is to group the tuples based on the **second** element in the tuples as shown in the examples below. We can achieve this using **dictionary** by checking the second element in each tuple.\n",
    "\n",
    "[You do not need to take tuple as input and can assume that it is given as below]\n",
    "\n",
    "===================================================================\n",
    "\n",
    "**Example 1:**\n",
    "\n",
    "Given:\n",
    "\n",
    "[(20, 80), (31, 80), (1, 22), (88, 11), (27, 11)]\n",
    "\n",
    "**Output:**\n",
    "\n",
    "{80: [(20, 80), (31, 80)],\\\n",
    "         11: [(88, 11), (27, 11)],\\\n",
    "         22: [(1, 22)]}\n",
    "       \n",
    "===================================================================\n",
    "\n",
    "**Example 2:**\n",
    "\n",
    "Given:\n",
    "\n",
    "[(20, 'Sad'), (31, 'Sad'), (88, 'NotSad'), (27, 'NotSad')]\n",
    "\n",
    "**Output:**\n",
    "\n",
    "{'NotSad': [(88, 'NotSad'), (27, 'NotSad')],\\\n",
    "         'Sad: [(20, 'Sad'), (31, 'Sad')]}\n",
    "\n",
    "==================================================================="
   ],
   "metadata": {
    "id": "zC94TVcD7LqM"
   }
  },
  {
   "cell_type": "code",
   "execution_count": 45,
   "source": [
    "#tup_list = [(20, 80), (31, 80), (1, 22), (88, 11), (27, 11)]\r\n",
    "tup_list = [(20, 'Sad'), (31, 'Sad'), (88, 'NotSad'), (27, 'NotSad')]\r\n",
    "ref_list = []\r\n",
    "\r\n",
    "a_dict = {}\r\n",
    "\r\n",
    "for a_tuple in tup_list:\r\n",
    "    if(a_tuple[1] not in ref_list):\r\n",
    "        ref_list.append(a_tuple[1])\r\n",
    "        \r\n",
    "for item in ref_list:\r\n",
    "    holder = []\r\n",
    "    for a_tuple in tup_list:\r\n",
    "        if(item == a_tuple[1]):\r\n",
    "            holder.append(a_tuple)\r\n",
    "       \r\n",
    "    a_dict[item] = holder\r\n",
    "print(a_dict)"
   ],
   "outputs": [
    {
     "output_type": "stream",
     "name": "stdout",
     "text": [
      "{'Sad': [(20, 'Sad'), (31, 'Sad')], 'NotSad': [(88, 'NotSad'), (27, 'NotSad')]}\n"
     ]
    }
   ],
   "metadata": {
    "id": "zAunp7oZ7H-l"
   }
  }
 ],
 "metadata": {
  "colab": {
   "collapsed_sections": [],
   "name": "CSE110 Lab Assignment 5.ipynb",
   "provenance": []
  },
  "kernelspec": {
   "display_name": "Python 3 (ipykernel)",
   "language": "python",
   "name": "python3"
  },
  "language_info": {
   "codemirror_mode": {
    "name": "ipython",
    "version": 3
   },
   "file_extension": ".py",
   "mimetype": "text/x-python",
   "name": "python",
   "nbconvert_exporter": "python",
   "pygments_lexer": "ipython3",
   "version": "3.9.2"
  }
 },
 "nbformat": 4,
 "nbformat_minor": 1
}