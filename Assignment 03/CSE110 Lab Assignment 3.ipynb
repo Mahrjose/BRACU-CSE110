{
 "cells": [
  {
   "cell_type": "markdown",
   "source": [
    "# CSE110 Lab Assignment 3\n",
    "\n",
    "This Assignment is to help you develop your concept of Strings in Python."
   ],
   "metadata": {
    "id": "xDNsncrtU1yM"
   }
  },
  {
   "cell_type": "markdown",
   "source": [
    "## Write the code in Python to do the following tasks:\n",
    "\n",
    "**<font color='red'>[MUST MAINTAIN VARIABLE NAMING CONVENTIONS FOR ALL THE TASKS]</font>**\n",
    "\n",
    "\n",
    "### Task 1 \n",
    "\n",
    "Write a Python program that will ask the user to input a string (containing exactly one word). Then your program should print subsequent substrings of the given string as shown in the examples below.\n",
    "\n",
    "=====================================================================\n",
    "\n",
    "**Example 1:**\\\n",
    "Input: BANGLA\\\n",
    "Output:\\\n",
    "B\\\n",
    "BA\\\n",
    "BAN\\\n",
    "BANG\\\n",
    "BANGL\\\n",
    "BANGLA\n",
    "\n",
    "=====================================================================\n",
    "\n",
    "**Example 2:**\\\n",
    "Input: DREAM\\\n",
    "Output:\\\n",
    "D\\\n",
    "DR\\\n",
    "DRE\\\n",
    "DREA\\\n",
    "DREAM\n",
    "\n",
    "=====================================================================\n",
    "\n",
    "**Hints(1):** Need to use \"for loop\" for this task.\n",
    "\n",
    "**Hints(2):** Need to use print() function for printing newlines.\n",
    "\n",
    "For example:\\\n",
    "print(1)\\\n",
    "print(2)\n",
    "\n",
    "Output:\\\n",
    "1\\\n",
    "2\n",
    "\n",
    "=====================================================================\n",
    "\n",
    "We need use print(end = \"\") to skip printing the additional newline.\n",
    "\n",
    "For example:\\\n",
    "print(1, end =\" \")\\\n",
    "print(2)\n",
    "\n",
    "Output:(prints the following output right next to the previous one)\\\n",
    "12\n",
    "\n",
    "=====================================================================\n",
    "\n",
    "\n",
    "\n",
    "\n"
   ],
   "metadata": {
    "id": "KD4EKJf6U1yQ"
   }
  },
  {
   "cell_type": "code",
   "execution_count": 6,
   "source": [
    "user_input = input()\r\n",
    "\r\n",
    "for index in range(len(user_input)+1):\r\n",
    "    print(user_input[:index])"
   ],
   "outputs": [
    {
     "output_type": "stream",
     "name": "stdout",
     "text": [
      "BANGLA\n",
      "\n",
      "B\n",
      "BA\n",
      "BAN\n",
      "BANG\n",
      "BANGL\n",
      "BANGLA\n"
     ]
    }
   ],
   "metadata": {
    "id": "vJhpmj2XU1yR"
   }
  },
  {
   "cell_type": "markdown",
   "source": [
    "### Task 2\n",
    "\n",
    "Write a Python program that will ask the user to enter a  word as an input. \n",
    "\n",
    "* If the length of the input string is less than 4, then your program should print the same string as an output. \n",
    "* If the input string’s length is greater than 3, then your program should add \"er\" at the end of the input string. \n",
    "* If the input string already ends with \"er\", then add \"est\" instead. \n",
    "* If the input string already ends with \"est\", then your program should print the same input string as an output.\n",
    "\n",
    "=====================================================================\n",
    "\n",
    "**Example 1:**\\\n",
    "Input: strong\\\n",
    "Output: stronger\n",
    "\n",
    "=====================================================================\n",
    "\n",
    "**Example 2:**\\\n",
    "Input: stronger\\\n",
    "Output: strongest\n",
    "\n",
    "=====================================================================\n",
    "\n",
    "**Example 3:**\\\n",
    "Input: strongest\\\n",
    "Output: strongest\n",
    "\n",
    "=====================================================================\n",
    "\n",
    "**Example 4:**\\\n",
    "Input: abc\\\n",
    "Output: abc\n",
    "\n",
    "====================================================================="
   ],
   "metadata": {
    "id": "pbdeIVcyU1yi"
   }
  },
  {
   "cell_type": "code",
   "execution_count": 26,
   "source": [
    "word = input()\r\n",
    "len_word = len(word)\r\n",
    "\r\n",
    "if(len_word < 4):\r\n",
    "    print(word)\r\n",
    "    \r\n",
    "elif(len_word > 3 and word[-2:] == \"er\"):\r\n",
    "    new_word = word.replace(\"er\",\"est\")\r\n",
    "    print(new_word)\r\n",
    "    \r\n",
    "elif(len_word > 3 and word[-3:] == \"est\"):\r\n",
    "    print(word)\r\n",
    "    \r\n",
    "elif(len_word > 3):\r\n",
    "    print(\"{0}er\".format(word))"
   ],
   "outputs": [
    {
     "output_type": "stream",
     "name": "stdout",
     "text": [
      "stronger\n",
      "strongest\n"
     ]
    }
   ],
   "metadata": {
    "id": "A5df9pmJU1yj"
   }
  },
  {
   "cell_type": "markdown",
   "source": [
    "### Task 3\n",
    "\n",
    "Write a Python program that will ask the user to input a string (containing exactly one word). Then print the ASCII code for each character in the String using the ord() function. \n",
    "\n",
    "To check if your program is working correctly or not, you can find a list of all correct values from the following website. Look at “Dec” and “Char” columns only, ignore other columns.\\\n",
    "link: http://www.asciitable.com/\n",
    "\n",
    "=====================================================================\n",
    "\n",
    "**Example 1:**\\\n",
    "Input: Programming\\\n",
    "Output:\\\n",
    "P : 80\\\n",
    "r : 114\\\n",
    "o : 111\\\n",
    "g : 103\\\n",
    "r : 114\\\n",
    "a : 97\\\n",
    "m : 109\\\n",
    "m : 109\\\n",
    "i : 105\\\n",
    "n : 110\\\n",
    "g : 103\n",
    "\n",
    "=====================================================================\n",
    "\n",
    "**Example 2:**\\\n",
    "Input: hunger\\\n",
    "Output:\\\n",
    "h : 104\\\n",
    "u : 117\\\n",
    "n : 110\\\n",
    "g : 103\\\n",
    "e : 101\\\n",
    "r : 114 \n",
    "\n",
    "====================================================================="
   ],
   "metadata": {
    "id": "PsBbgc4YU1yp"
   }
  },
  {
   "cell_type": "code",
   "execution_count": 45,
   "source": [
    "word = input()\n",
    "\n",
    "for index in word:\n",
    "    ascii_num = ord(index)\n",
    "    print(\"{0} : {1}\".format(index, ascii_num))"
   ],
   "outputs": [
    {
     "output_type": "stream",
     "name": "stdout",
     "text": [
      "Programming\n",
      "P : 80\n",
      "r : 114\n",
      "o : 111\n",
      "g : 103\n",
      "r : 114\n",
      "a : 97\n",
      "m : 109\n",
      "m : 109\n",
      "i : 105\n",
      "n : 110\n",
      "g : 103\n"
     ]
    }
   ],
   "metadata": {
    "id": "r8by7ONZU1ys"
   }
  },
  {
   "cell_type": "markdown",
   "source": [
    "### Task 4\n",
    "\n",
    "Take a string as a input from the user with all small letters. Then print the next alphabet in sequence for each alphabet found in the input.\n",
    "\n",
    "=====================================================================\n",
    "\n",
    "\n",
    "*Hint: You need to use functions ord() and chr(). The ASCII value of ‘a’ is 97 and ‘z’ is 122.*\n",
    "\n",
    "=====================================================================\n",
    "\n",
    "**Example 1:**\\\n",
    "Input: abcd\\\n",
    "Output: bcde\n",
    "\n",
    "=====================================================================\n",
    "\n",
    "**Example 2:**\\\n",
    "Input: the cow\\\n",
    "Output: uif!dpx\n",
    "\n",
    "=====================================================================\n",
    "\n",
    "**Example 3: <font color='red'>[Must fulfil this criteria]</font>**\\\n",
    "Input: xyzabc\\\n",
    "Output: yzabcd\n",
    "\n",
    "=====================================================================\n"
   ],
   "metadata": {
    "id": "O8lIVppgU1yw"
   }
  },
  {
   "cell_type": "code",
   "execution_count": 17,
   "source": [
    "user_input = input()\n",
    "\n",
    "for index in user_input:\n",
    "    ascii_num = ord(index)\n",
    "    ascii_num += 1\n",
    "    \n",
    "    if(ascii_num > 122):\n",
    "        ascii_num = 97\n",
    "        \n",
    "    ch = chr(ascii_num)\n",
    "    print(ch, end=\"\")"
   ],
   "outputs": [
    {
     "output_type": "stream",
     "name": "stdout",
     "text": [
      "xyzabc\n",
      "yzabcd"
     ]
    }
   ],
   "metadata": {
    "id": "Hyvy8WNNU1yx"
   }
  },
  {
   "cell_type": "markdown",
   "source": [
    "### Task 5\n",
    "\n",
    "Write a Python program that will ask the user to enter two strings (s1, s2) as an input. Then create a mixed string with alternative characters from each string. Any leftover chars will be appended at the end of the resulting string.\n",
    "\n",
    "=====================================================================\n",
    "\n",
    "*Hint: For adding the leftover characters you may use string slicing.*\n",
    "\n",
    "=====================================================================\n",
    "\n",
    "**Example 1:**\\\n",
    "Input:\\\n",
    "\"ABCD\"\\\n",
    "\"efgh\"\n",
    "\n",
    "Output:\\\n",
    "AeBfCgDh\n",
    "\n",
    "=====================================================================\n",
    "\n",
    "**Example 2:**\\\n",
    "Input:\\\n",
    "\"ABCDENDFGH\"\\\n",
    "\"ijkl\"\n",
    "\n",
    "Output:\\\n",
    "AiBjCkDlENDFGH\n",
    "\n",
    "=====================================================================\n",
    "\n",
    "**Example 3:**\\\n",
    "Input:\\\n",
    "\"ijkl\"\\\n",
    "\"ABCDENDFGH\"\n",
    "\n",
    "Output:\\\n",
    "iAjBkClDENDFGH\n",
    "\n",
    "=====================================================================\n"
   ],
   "metadata": {
    "id": "leVtdAsdymXM"
   }
  },
  {
   "cell_type": "code",
   "execution_count": 1,
   "source": [
    "str_1 = input()\n",
    "str_2 = input()\n",
    "\n",
    "if(len(str_1) < len(str_2)):\n",
    "    for index in range(len(str_1)):\n",
    "        new_str = \"{0}{1}\".format(str_1[index], str_2[index])\n",
    "        print(new_str, end=\"\")\n",
    "    print(str_2[len(str_1):])\n",
    "else:\n",
    "    for index in range(len(str_2)):\n",
    "        new_str = \"{0}{1}\".format(str_1[index], str_2[index])\n",
    "        print(new_str, end=\"\")\n",
    "    print(str_1[len(str_2):])"
   ],
   "outputs": [
    {
     "output_type": "stream",
     "name": "stdout",
     "text": [
      "ijkl\n",
      "ABCDENDFGH\n",
      "iAjBkClDENDFGH\n"
     ]
    }
   ],
   "metadata": {
    "id": "kC1cq47myny6"
   }
  },
  {
   "cell_type": "markdown",
   "source": [
    "### Task 6\n",
    "Given a string, create a new string with all the consecutive duplicates **removed**. \n",
    "\n",
    "=====================================================================\n",
    "\n",
    "**Hint:** You may make a new string to store the result. You can check whether the current character and the next character are the same, then add that character to the new string.\n",
    "\n",
    "=====================================================================\n",
    "\n",
    "\n",
    "**Sample Input**:\\\n",
    "AAABBBBCDDBBECE\n",
    "\n",
    "**Sample Output:**\\\n",
    "ABCDBECE\n",
    "\n",
    "=====================================================================\n"
   ],
   "metadata": {
    "id": "AWQJrJW3U1y3"
   }
  },
  {
   "cell_type": "code",
   "execution_count": 5,
   "source": [
    "str_input = input()\n",
    "new_str = \"{}\".format(str_input[0])\n",
    "\n",
    "if(len(str_input) > 1):\n",
    "    for ch in str_input[1:]:\n",
    "        if(ch != new_str[-1]):\n",
    "            new_str += ch\n",
    "    print(new_str)\n",
    "else:\n",
    "    print(str_input)"
   ],
   "outputs": [
    {
     "output_type": "stream",
     "name": "stdout",
     "text": [
      "AAVVCDGGAAAAD\n",
      "AVCDGAD\n"
     ]
    }
   ],
   "metadata": {
    "id": "oNv_JNgUU1y4"
   }
  },
  {
   "cell_type": "markdown",
   "source": [
    "### Task 7\n",
    "\n",
    "Write a python program that takes 2 inputs from the user, where the first input is a string with length greater than 1. The second input is the index of the first given string from where you have to start reversing. Then print the new string back to the user.\n",
    "\n",
    "=====================================================================\n",
    "\n",
    "**Sample Input 1:**\n",
    "\n",
    "72418\n",
    "\n",
    "4\n",
    "\n",
    "**Sample Output 1:**\n",
    "\n",
    "81427\n",
    "\n",
    "\n",
    "**Explanation**: Our second input, index '4' is the last index of our first input String '72418', hence the entire string is reversed giving us '81427'.\n",
    "\n",
    "=====================================================================\n",
    "\n",
    "**Sample Input 2:**\n",
    "\n",
    "12345 \n",
    "\n",
    "2\n",
    "\n",
    "**Sample Output 2:**\n",
    "\n",
    "32145\n",
    "\n",
    "**Explanation**: The second input is '2' so we have to reverse from index 2 of our first input. The 2nd index of our first input String is '3', index 1 is '2' and index 0 is '1'. Hence, if we reverse indexes 0 to 2, we get '321'. Index 3 and 4 which is '4' and '5' respectively remains unchanged hence our final output is '32145'.\n",
    "\n",
    "=====================================================================\n",
    "\n",
    "**Sample Input 3:**\n",
    "\n",
    "aBcd1234defg\n",
    "\n",
    "5\n",
    "\n",
    "**Sample Output 3:**\n",
    "\n",
    "21dcBa34defg\n",
    "\n",
    "**Explanation**: From our first input String 'aBcd1234defg', \n",
    "\n",
    "index 0 = 'a'\n",
    "\n",
    "index 1 = 'B'\n",
    "\n",
    "index 2 = 'c'\n",
    "\n",
    "index 3 = 'd'\n",
    "\n",
    "index 4 = '1'\n",
    "\n",
    "index 5 = '2'\n",
    "\n",
    "index 6 = '3'\n",
    "\n",
    "Since our second input is 5, index 0 to index 5 is reversed and we have '21dcBa' and the rest is unchanged from indexes 6 to 11 ('34defg'). Therefore, we have '21dcBa34defg' finally.\n",
    "\n",
    "=====================================================================\n"
   ],
   "metadata": {
    "id": "4zI6tmFN0i4y"
   }
  },
  {
   "cell_type": "code",
   "execution_count": 31,
   "source": [
    "str_input = input()\n",
    "index = int(input())\n",
    "\n",
    "new_str = (str_input[:index+1])\n",
    "rev_str = (new_str[::-1])\n",
    "\n",
    "print(\"{0}{1}\".format(rev_str,str_input[index+1:]))"
   ],
   "outputs": [
    {
     "output_type": "stream",
     "name": "stdout",
     "text": [
      "12345\n",
      "2\n",
      "32145\n"
     ]
    }
   ],
   "metadata": {
    "id": "NoqaHxEq81np"
   }
  },
  {
   "cell_type": "markdown",
   "source": [
    "### Task 8\n",
    "\n",
    "Write a python program that splits a given string on a given split character. The first input is a String and the second input is the character that will be used to split the first String. <font color='red'>[You cannot use the built-in split function]</font>\n",
    "\n",
    "=====================================================================\n",
    "\n",
    "**Sample Input 1:**<br/>\n",
    "This-is-CSE110<br/>\n",
    "-<br/>\n",
    "\n",
    "**Sample Output 1:**<br/>\n",
    "This<br/>\n",
    "is<br/>\n",
    "CSE110\n",
    "\n",
    "**Explanation**: The second input which is the character '-', is used to split or divide the first input String 'This-is-CSE110' into 'This', 'is' and 'CSE110' which are printed individually in seperate lines.\n",
    "\n",
    "=====================================================================\n",
    "\n",
    "**Sample Input 2**:\n",
    "tom@gmail,harry@yahoo,bob@gmail,mary@gmail\n",
    "\n",
    ",\n",
    "\n",
    "**Sample Output 2**:\n",
    "\n",
    "tom@gmail\n",
    "\n",
    "harry@yahoo\n",
    "\n",
    "bob@gmail\n",
    "\n",
    "mary@gmail\n",
    "\n",
    "====================================================================="
   ],
   "metadata": {
    "id": "G1KGod9C87t_"
   }
  },
  {
   "cell_type": "code",
   "execution_count": 4,
   "source": [
    "user_input = input()\n",
    "ch = input()\n",
    "\n",
    "print(user_input.replace(ch,\"\\n\"))"
   ],
   "outputs": [
    {
     "output_type": "stream",
     "name": "stdout",
     "text": [
      "tom@gmail,harry@yahoo,bob@gmail,marry@gmail\n",
      ",\n",
      "tom@gmail\n",
      "harry@yahoo\n",
      "bob@gmail\n",
      "marry@gmail\n"
     ]
    }
   ],
   "metadata": {
    "id": "A9zuROkY9qre",
    "scrolled": true
   }
  },
  {
   "cell_type": "markdown",
   "source": [
    "### Task 9\n",
    "\n",
    "Suppose you are given two strings, s1, and s2. Now, print a new string made up of the last characters and then the first characters of the input strings.\n",
    "\n",
    "=====================================================================\n",
    "\n",
    "**Sample Input 1**:\n",
    "\n",
    "s1 = new\n",
    "\n",
    "s2= string\n",
    "\n",
    "**Sample Output 1**:\n",
    "\n",
    "gwsn\n",
    "\n",
    "**Explanation:** The last character of the String s2 is 'g'. The last character of the String s1 is 'w'. The first character of the String s2 is 's'. The first character of the String s1 is 'n'. Together they give us the ouput we want 'gwsn'.\n",
    "\n",
    "=====================================================================\n",
    "\n",
    "**Sample Input 2**:\n",
    "\n",
    "s1 = abcd\n",
    "\n",
    "s2= efgh\n",
    "\n",
    "**Sample Output 2**: \n",
    "\n",
    "hdea\n",
    "\n",
    "**Explanation:** The last characters of the Strings s2 and s1 is 'h' and 'd' respectively while the first characters of the Strings is 'e' and 'a' respectively. Together they give us the ouput we want 'gwsn'.\n",
    "\n",
    "=====================================================================\n"
   ],
   "metadata": {
    "id": "lPoDvm8YU1y9"
   }
  },
  {
   "cell_type": "code",
   "execution_count": 2,
   "source": [
    "str_1 = input()\n",
    "str_2 = input()\n",
    "\n",
    "print(\"{}{}{}{}\".format(str_2[-1], str_1[-1],str_2[0], str_1[0]))"
   ],
   "outputs": [
    {
     "output_type": "stream",
     "name": "stdout",
     "text": [
      "new\n",
      "string\n",
      "gwsn\n"
     ]
    }
   ],
   "metadata": {
    "id": "z26BN9B3U1y_"
   }
  },
  {
   "cell_type": "markdown",
   "source": [
    "### Task 10\n",
    "\n",
    "Write a Python program that takes a String as input from the user, removes the characters at even index and prints the resulting String in uppercase.\n",
    "\n",
    "=====================================================================\n",
    "\n",
    "**Sample Input 1**:\n",
    "\n",
    "String\n",
    "\n",
    "**Sample Output 1**: \n",
    "\n",
    "TIG\n",
    "\n",
    "**Explanation**: The characters 'S', 'r' and 'n' are at index positions 0, 2, and 4 respectively. Hence they are removed and the remaining characters 'tig' are capitalized giving us output 'TIG'.\n",
    "\n",
    "=====================================================================\n",
    "\n",
    "**Sample Input 2**:\n",
    "\n",
    "abcd\n",
    "\n",
    "**Sample Output 2**: \n",
    "\n",
    "BD\n",
    "\n",
    "=====================================================================\n"
   ],
   "metadata": {
    "id": "ZrjtT-I_U1zD"
   }
  },
  {
   "cell_type": "code",
   "execution_count": 11,
   "source": [
    "str_input = input()\n",
    "\n",
    "for ch in str_input:\n",
    "    if(str_input.index(ch) % 2 != 0 and str_input.index(ch) != 0):\n",
    "        print(ch.upper() ,end =\"\")"
   ],
   "outputs": [
    {
     "output_type": "stream",
     "name": "stdout",
     "text": [
      "string\n",
      "TIG"
     ]
    }
   ],
   "metadata": {
    "id": "3r7Ripj7U1zE"
   }
  },
  {
   "cell_type": "markdown",
   "source": [
    "### Task 11\n",
    "\n",
    "Write a python program that takes two inputs. The first input is a string and the second input is a number. If the number is even then concatenate the given string two times the given number and if the number is odd then concatenate the given string three times the given number.\n",
    "\n",
    "=====================================================================\n",
    "\n",
    "**Sample Input 1**:\n",
    "\n",
    "CSE110\n",
    "\n",
    "4\n",
    "\n",
    "**Sample output 1**:\n",
    "\n",
    "CSE110CSE110CSE110CSE110CSE110CSE110CSE110CSE110\n",
    "\n",
    "**Explanation**: The second input which is the number 4 is even, therefore the first string input 'CSE110' is concatenated(joined together) 4*2 = 8 times.\n",
    "\n",
    "=====================================================================\n",
    "\n",
    "**Sample Input 2**:\n",
    "\n",
    "CSE110\n",
    "\n",
    "3\n",
    "\n",
    "**Sample Output 2**:\n",
    "\n",
    "CSE110CSE110CSE110CSE110CSE110CSE110CSE110CSE110CSE110\n",
    "\n",
    "=====================================================================\n"
   ],
   "metadata": {
    "id": "AWgZaBZCzmaM"
   }
  },
  {
   "cell_type": "code",
   "execution_count": 5,
   "source": [
    "str_input = input()\n",
    "num = int(input())\n",
    "\n",
    "if(num % 2 == 0):\n",
    "    print(str_input * (num * 2))\n",
    "else:\n",
    "    print(str_input * (num * 3))"
   ],
   "outputs": [
    {
     "output_type": "stream",
     "name": "stdout",
     "text": [
      "CSE110\n",
      "4\n",
      "CSE110CSE110CSE110CSE110CSE110CSE110CSE110CSE110\n"
     ]
    }
   ],
   "metadata": {
    "id": "ICW-03YOznTp"
   }
  },
  {
   "cell_type": "markdown",
   "source": [
    "### Task 12\n",
    "\n",
    "Write a python program that takes 2 inputs from the user. The first input is a string and the second input is a letter. The program should remove all occurences of the letter from the given string and print the output. If the letter is not found in the string and the length of string is greater than 3, then remove the first letter and last letter of the given string and print it. Otherwise print the string as it is. [You can assume that all the input will be in lowercase letter]\n",
    "\n",
    "=====================================================================\n",
    "\n",
    "\n",
    "**Sample Input 1**:\n",
    "\n",
    "tanjiro kamado\n",
    "\n",
    "a\n",
    "\n",
    "**Sample output 1**:\n",
    "\n",
    "tnjiro kmdo\n",
    "\n",
    "**Explanation**: All 3 instances of the character 'a' is removed from the input String 'tanjiro kamado' to give us output 'tnjiro kmdo'.\n",
    "\n",
    "=====================================================================\n",
    "\n",
    "**Sample Input 2**:\n",
    "\n",
    "eren yeager\n",
    "\n",
    "k\n",
    "\n",
    "\n",
    "**Sample Output 2**:\n",
    "\n",
    "ren yeage\n",
    "\n",
    "**Explanation**: The character 'k' is absent in the first input String 'eren yeager' and it's length is 11 which is greater than 3 therefore the first character 'e' and the last character 'r' is removed. Hence, the final String is 'ren yeage'.\n",
    "\n",
    "=====================================================================\n",
    "\n",
    "Sample Input 3:\n",
    "\n",
    "hi\n",
    "\n",
    "a\n",
    "\n",
    "Sample Output 3:\n",
    "\n",
    "hi\n",
    "\n",
    "**Explanation**: The letter 'a' is not found in our first input 'hi', the length of which is 2. Since the character is not present and the length is less than 3, we print the String 'hi' as it is.\n",
    "\n",
    "=====================================================================\n"
   ],
   "metadata": {
    "id": "7a_1pYjfU1zI"
   }
  },
  {
   "cell_type": "code",
   "execution_count": 2,
   "source": [
    "str_input = input()\n",
    "ch = input()\n",
    "\n",
    "if(ch in str_input):\n",
    "    print(str_input.replace(ch,\"\"))\n",
    "else:\n",
    "    if(len(str_input) > 3):\n",
    "        print(str_input[1:-1])\n",
    "    else:\n",
    "        print(str_input)"
   ],
   "outputs": [
    {
     "output_type": "stream",
     "name": "stdout",
     "text": [
      "eren yeager\n",
      "k\n",
      "ren yeage\n"
     ]
    }
   ],
   "metadata": {
    "id": "vToa7yazU1zI"
   }
  },
  {
   "cell_type": "markdown",
   "source": [
    "## Optional Tasks (13 - 15) [Ungraded]"
   ],
   "metadata": {
    "id": "WZXnxHTdGrMC"
   }
  },
  {
   "cell_type": "markdown",
   "source": [
    "### Task 13\n",
    "\n",
    "\n",
    "Write a python program that takes a string as an input from the user and then modifies the string in such a way that the string always starts with an uppercase letter and the case of each subsequent letter is the opposite of the previous letter (uppercase character followed by a lowercase character followed by an uppercase character and so on).  Finally the modified string is printed to show the user.\n",
    "\n",
    "*Hints:  Flags/counters can be used to manage uppercase-lowercase.*\n",
    "\n",
    "=====================================================================\n",
    "\n",
    "**Sample Input 1:**\\\n",
    "Python programming is very easy\n",
    "\n",
    "**Sample Output 1:**\\\n",
    "PyThOn PrOgRaMmInG iS vErY eAsY\n",
    "\n",
    "=====================================================================\n",
    "\n",
    "**Sample Input 2:**\\\n",
    "I&nbsp;&nbsp;&nbsp;&nbsp;&nbsp;&nbsp;     love       &nbsp;&nbsp;&nbsp;&nbsp;&nbsp;&nbsp;&nbsp; Python &nbsp;&nbsp;&nbsp;&nbsp;&nbsp;&nbsp;&nbsp;&nbsp;Programming\n",
    "\n",
    "**Sample Output 2:**\\\n",
    "I&nbsp;&nbsp;&nbsp;&nbsp;&nbsp;&nbsp;     lOvE       &nbsp;&nbsp;&nbsp;&nbsp;&nbsp;&nbsp;&nbsp;pYtHoN&nbsp;&nbsp;&nbsp;&nbsp;&nbsp;&nbsp;&nbsp;&nbsp;pRoGrAmMiNg\n",
    "\n",
    "=====================================================================\n",
    "\n",
    "**Sample Input 3:**\\\n",
    "CSE110 Course\n",
    "\n",
    "**Sample Output 3**\\\n",
    "CsE110 cOuRsE\n",
    "\n",
    "\n",
    "\n",
    "=====================================================================\n",
    "\n",
    "**Sample Input 4:**\\\n",
    "c\n",
    "\n",
    "**Sample Output 4:**\\\n",
    "C\n",
    "\n",
    "=====================================================================\n"
   ],
   "metadata": {
    "id": "nwRZ3_0tC3fq"
   }
  },
  {
   "cell_type": "code",
   "execution_count": 6,
   "source": [
    "str_input = input().capitalize()\n",
    "modded_str = str_input[0]\n",
    "\n",
    "for index in range(1, len(str_input)):\n",
    "    if index % 2 != 0:\n",
    "        str_input[index].lower()\n",
    "        modded_str += str_input[index]\n",
    "    elif index % 2 == 0:\n",
    "        str_input[index].upper()\n",
    "        modded_str += str_input[index]\n",
    "print(modded_str)"
   ],
   "outputs": [
    {
     "output_type": "stream",
     "name": "stdout",
     "text": [
      "ABCDEFGH\n",
      "Abcdefgh\n"
     ]
    }
   ],
   "metadata": {
    "id": "LEnaTlyoMJdS"
   }
  },
  {
   "cell_type": "markdown",
   "source": [
    "### Task 14 \n",
    "An anagram is a play on words created by rearranging the letters of the original word to make a new word or phrase.\n",
    "So we can say two words are anagrams if they contain all of the same letters, but in a different order.\n",
    "\n",
    "\n",
    "Write a python program that takes two strings from the user and tells if they are anagram or not.\n",
    "\n",
    "=====================================================================\n",
    "\n",
    "<b>Sample Input 1: </b><br/>\n",
    "dusty<br/>\n",
    "study<br/>\n",
    "<b>Sample Output 1: </b> <br/>\n",
    "They are anagram<br/>\n",
    "\n",
    "=====================================================================\n",
    "\n",
    "<b>Sample Input 2: </b><br/>\n",
    "dustyyy<br/>\n",
    "study<br/>\n",
    "<b>Sample Output 2: </b><br/>\n",
    "They are not anagram"
   ],
   "metadata": {
    "id": "EEkcqbIJBKel"
   }
  },
  {
   "cell_type": "code",
   "execution_count": 44,
   "source": [
    "str_1 = input()\n",
    "str_2 = input()\n",
    "\n",
    "if(sorted(str_1) == sorted(str_2)):\n",
    "    print(\"They are anagram\")\n",
    "else:\n",
    "    print(\"They are not anagram\")"
   ],
   "outputs": [
    {
     "output_type": "stream",
     "name": "stdout",
     "text": [
      "my book\n",
      "my koob\n",
      "They are anagram\n"
     ]
    }
   ],
   "metadata": {
    "id": "dvjY9pE2BLVT",
    "scrolled": true
   }
  },
  {
   "cell_type": "markdown",
   "source": [
    "### Task 15\n",
    "\n",
    "Write a python program thats prints the largest consecutive sequence from a given string S. For example, if S = ‘AABBBCCAAAA’, print ‘AAAA’. If more than one largest consecutive sequence exists, print the first one. Print NONE if no consecutive sequence is found.\n",
    "\n",
    "=====================================================================\n",
    "\n",
    "**Sample Input 1:**<br/>\n",
    "AABBBCCAAAA<br/>\n",
    "**Sample Output 1:**<br/>\n",
    "AAAA<br/>\n",
    "\n",
    "=====================================================================\n",
    "\n",
    "**Sample Input 2:**<br/>\n",
    "AABBCC<br/>\n",
    "**Sample Output 2:**<br/>\n",
    "AA<br/>\n",
    "\n",
    "=====================================================================\n",
    "\n",
    "**Sample Input 3:**<br/>\n",
    "ABCD<br/>\n",
    "**Sample Output 3:**<br/>\n",
    "NONE<br/>\n",
    "\n",
    "====================================================================="
   ],
   "metadata": {
    "id": "sHeGC4Tf7z81"
   }
  },
  {
   "cell_type": "code",
   "execution_count": 15,
   "source": [
    "#code is not finished\n",
    "str_input = input()\n",
    "new_str = \"{}\".format(str_input[0])\n",
    "len_large_str = 0\n",
    "\n",
    "for ch in str_input[1:]:\n",
    "    if(ch == new_str[-1]):\n",
    "        new_str += ch\n",
    "    elif(ch != new_str[-1]):\n",
    "        len_str = len(new_str)\n",
    "        if(len_str > len_large_str):\n",
    "            len_large_str = len_str\n",
    "            large_str = new_str\n",
    "        new_str = \"\"\n",
    "        new_str += ch\n",
    "print(large_str)"
   ],
   "outputs": [
    {
     "output_type": "stream",
     "name": "stdout",
     "text": [
      "AABBB\n",
      "AA\n"
     ]
    }
   ],
   "metadata": {
    "id": "lModRb2L0oqS"
   }
  }
 ],
 "metadata": {
  "colab": {
   "collapsed_sections": [],
   "name": "CSE110 Lab Assignment 3.ipynb",
   "provenance": []
  },
  "kernelspec": {
   "display_name": "Python 3 (ipykernel)",
   "language": "python",
   "name": "python3"
  },
  "language_info": {
   "codemirror_mode": {
    "name": "ipython",
    "version": 3
   },
   "file_extension": ".py",
   "mimetype": "text/x-python",
   "name": "python",
   "nbconvert_exporter": "python",
   "pygments_lexer": "ipython3",
   "version": "3.9.2"
  }
 },
 "nbformat": 4,
 "nbformat_minor": 1
}