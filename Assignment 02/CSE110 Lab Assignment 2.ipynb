{
 "cells": [
  {
   "cell_type": "markdown",
   "metadata": {
    "id": "4wbfWEkOSK4T"
   },
   "source": [
    "# CSE110 Assignment 2 \n",
    "\n",
    "This assignment is to guide in solving basic programming problems using loop in Python. \n",
    "\n"
   ]
  },
  {
   "cell_type": "markdown",
   "metadata": {
    "id": "w269kMywSK4V"
   },
   "source": [
    "## Write the code in Python for following problems:\n",
    "\n",
    "**<font color='red'>[MUST MAINTAIN VARIABLE NAMING CONVENTIONS FOR ALL THE TASKS]</font>**\n",
    "\n",
    "### Task 1\n",
    "\n",
    "Write python program, which prints the following sequences of values in loops:\n",
    "\n",
    "a)\t24, 18, 12, 6, 0, -6\\\n",
    "b)\t-10, -5, 0, 5, 10, 15, 20\\\n",
    "c)\t18, 27, 36, 45, 54, 63\\\n",
    "d)\t18,-27, 36,-45,54,-63\n",
    "\n",
    "=====================================================================\n",
    "\n",
    "**Hints(1):** Use a while loop for solving these problems.\n",
    "\n",
    "**Hints(2):** We are already familiar with the print() function. But when we use it to print any value it automatically adds an additional newline after each print statement.\n",
    "\n",
    "For example:\\\n",
    "print(1)\\\n",
    "print(2)\n",
    "\n",
    "Output:\\\n",
    "1\\\n",
    "2\n",
    "\n",
    "=====================================================================\n",
    "\n",
    "To solve this problem, in Python3, we need to add an extra argument (end = \" \") in the print function which tells the program to skip printing the additional newline.\n",
    "\n",
    "For example:\\\n",
    "print(1, end =\" \")\\\n",
    "print(2)\n",
    "\n",
    "Output:(prints the next output right to the previous one)\\\n",
    "12\n",
    "\n",
    "=====================================================================\n",
    "\n",
    "In Task-1(a), the loop counter should be initialized at 24 and the loop should terminate when the loop counter reaches -6. The difference between the first two values is 24-18=6. So the loop counter value is getting decremented by 6 in every iteration.\n",
    "\n",
    "For your understanding task 1(a) code is done for you.\n"
   ]
  },
  {
   "cell_type": "code",
   "execution_count": 8,
   "metadata": {
    "id": "H9nuTYCuSK4X",
    "outputId": "e1a08b2f-ccc1-4896-b1ec-5904ba1945d5"
   },
   "outputs": [
    {
     "name": "stdout",
     "output_type": "stream",
     "text": [
      "24, 18, 12, 6, 0, -6"
     ]
    }
   ],
   "source": [
    "# a) 24, 18, 12, 6, 0, -6\n",
    "\n",
    "# initialize loop counter\n",
    "counter = 24\n",
    "\n",
    "# loop structure\n",
    "while counter >= -6:\n",
    "    \n",
    "    #inside loop body\n",
    "    if counter == -6:\n",
    "        print(counter, end = \"\") \n",
    "    else:\n",
    "        print(counter, end = \", \") \n",
    "     \n",
    "    counter = counter - 6 #updating loop counter\n",
    "    #inside loop body\n",
    "    \n",
    "#outside loop body"
   ]
  },
  {
   "cell_type": "code",
   "execution_count": 44,
   "metadata": {
    "id": "YWLB_TuLSK4h"
   },
   "outputs": [
    {
     "name": "stdout",
     "output_type": "stream",
     "text": [
      "-10, -5, 0, 5, 10, 15, 20"
     ]
    }
   ],
   "source": [
    "# b)-10, -5, 0, 5, 10, 15, 20\n",
    "\n",
    "counter = -10\n",
    "\n",
    "while counter <= 20:\n",
    "    \n",
    "    if counter == 20:\n",
    "        print(counter, end = \"\")\n",
    "    else:\n",
    "        print(counter, end = \", \")\n",
    "        \n",
    "    counter = counter + 5"
   ]
  },
  {
   "cell_type": "code",
   "execution_count": 45,
   "metadata": {
    "id": "b5blHg8zSK4n"
   },
   "outputs": [
    {
     "name": "stdout",
     "output_type": "stream",
     "text": [
      "18, 27, 36, 45, 54, 63"
     ]
    }
   ],
   "source": [
    "# c)18, 27, 36, 45, 54, 63\n",
    "\n",
    "counter = 18\n",
    "\n",
    "while counter <= 63:\n",
    "    \n",
    "    if counter == 63:\n",
    "        print(counter, end = \"\")\n",
    "    else:\n",
    "        print(counter, end = \", \")\n",
    "        \n",
    "    counter = counter + 9"
   ]
  },
  {
   "cell_type": "markdown",
   "metadata": {
    "id": "VlRJZhqVSK4v"
   },
   "source": [
    "**Hints for 1(d):** \n",
    "\n",
    "print(5 * (-1)) gives output -5\\\n",
    "print(\"-\" + str(5)) gives output -5"
   ]
  },
  {
   "cell_type": "code",
   "execution_count": 46,
   "metadata": {
    "id": "lA6BDPaaSK4v"
   },
   "outputs": [
    {
     "name": "stdout",
     "output_type": "stream",
     "text": [
      "18, -27, 36, -45, 54, -63"
     ]
    }
   ],
   "source": [
    "# d)18,-27, 36,-45,54,-63\n",
    "\n",
    "counter = 18\n",
    "\n",
    "while counter <= 63:\n",
    "    \n",
    "    if counter == 63:\n",
    "        print(counter * (-1), end = \"\")\n",
    "    elif counter == 27 or counter == 45:\n",
    "        print(counter * (-1), end =\", \")\n",
    "    else:\n",
    "        print(counter, end = \", \")\n",
    "        \n",
    "    counter = counter + 9"
   ]
  },
  {
   "cell_type": "markdown",
   "metadata": {
    "id": "fB7DLiLjSK41"
   },
   "source": [
    "====================================================================\\\n",
    "<font color='blue'>\n",
    "All the tasks can be solved using both the \"while loop\" and the \"for loop\". But you need to choose the best looping construct which is the most suitable for solving a particular task.\n",
    "</font>\n",
    "\n",
    "===================================================================="
   ]
  },
  {
   "cell_type": "markdown",
   "metadata": {
    "id": "RGkTLNE8SK43"
   },
   "source": [
    "### Task 2\n",
    "Write a Python code for the following:\n",
    "\n",
    "1)\tAsk the user to enter the name of his favorite car.\\\n",
    "2)\tAsk the user to enter a Number\n",
    "\n",
    "Display the name of the user’s favorite car, the number of times specified in the second step.\n",
    "\n",
    "==========================================================\n",
    "\n",
    "**Example 01:** If the user enters “Toyota” and 20, your program should print the name “Toyota” twenty times.\n",
    "\n",
    "**Input:**\\\n",
    "Toyota\\\n",
    "2\n",
    "\n",
    "**Output:**\\\n",
    "Toyota\\\n",
    "Toyota\n",
    "\n",
    "==========================================================\n",
    "\n",
    "**Example02:** If the user enters “Veyron” and 5, your program should print the name “Veyron” five times.\n",
    "\n",
    "**Input:**\\\n",
    "Veyron\\\n",
    "5\n",
    "\n",
    "**Output:**\\\n",
    "Veyron\\\n",
    "Veyron\\\n",
    "Veyron\\\n",
    "Veyron\\\n",
    "Veyron\n"
   ]
  },
  {
   "cell_type": "code",
   "execution_count": 10,
   "metadata": {
    "id": "u5yX33mvSK45",
    "scrolled": true
   },
   "outputs": [
    {
     "name": "stdout",
     "output_type": "stream",
     "text": [
      "Please Enter the name of your favourite car: Veyron\n",
      "Please Enter a number: 5\n",
      "Veyron\n",
      "Veyron\n",
      "Veyron\n",
      "Veyron\n",
      "Veyron\n"
     ]
    }
   ],
   "source": [
    "car_name = input(\"Please Enter the name of your favourite car: \")\n",
    "number = int(input(\"Please Enter a number: \"))\n",
    "\n",
    "counter = 1\n",
    "\n",
    "while (counter <= number):\n",
    "    print(car_name)\n",
    "    counter += 1"
   ]
  },
  {
   "cell_type": "markdown",
   "metadata": {
    "id": "xT0l0U35SK5A"
   },
   "source": [
    "### Task 3\n",
    "Write a Python code of a program that adds all numbers that are multiples of **both 7 and 9** up to 600 (including 600).\n",
    "\n",
    "Output: 2835\n"
   ]
  },
  {
   "cell_type": "code",
   "execution_count": 11,
   "metadata": {
    "id": "Q6dix8WhSK5B"
   },
   "outputs": [
    {
     "name": "stdout",
     "output_type": "stream",
     "text": [
      "2835\n"
     ]
    }
   ],
   "source": [
    "x = 0\n",
    "counter = 0\n",
    "\n",
    "while(counter <= 600):\n",
    "    if(counter % 7 == 0 and counter % 9 == 0):\n",
    "        x = x + counter\n",
    "    if(counter == 600):\n",
    "        print(x)\n",
    "    counter += 1"
   ]
  },
  {
   "cell_type": "markdown",
   "metadata": {
    "id": "8swUoCy9SK5F"
   },
   "source": [
    "### Task 4\n",
    "Write a Python code of a program that adds all numbers that are multiples of **either 7 or 9** up to 600(including 600). \\\n",
    "Ensure that numbers like 63 are added only once in the sum.\n",
    "\n",
    "Output: 42649\n"
   ]
  },
  {
   "cell_type": "code",
   "execution_count": 12,
   "metadata": {
    "id": "pbIA-waFSK5G"
   },
   "outputs": [
    {
     "name": "stdout",
     "output_type": "stream",
     "text": [
      "42649\n"
     ]
    }
   ],
   "source": [
    "x = 0\n",
    "counter = 0\n",
    "\n",
    "while(counter <= 600):\n",
    "    if(counter % 7 == 0 or counter % 9 == 0):\n",
    "        x = x + counter\n",
    "    if(counter == 600):\n",
    "        print(x)\n",
    "    counter += 1"
   ]
  },
  {
   "cell_type": "markdown",
   "metadata": {
    "id": "H3hLyguASK5L"
   },
   "source": [
    "### Task 5\n",
    "Write a Python code of a program that adds all numbers that are multiples of **either 7 or 9 but not both**, up to 600(including 600).\n",
    "\n",
    "Output: 39814\n"
   ]
  },
  {
   "cell_type": "code",
   "execution_count": 23,
   "metadata": {
    "id": "LiAvUr1QSK5M"
   },
   "outputs": [
    {
     "name": "stdout",
     "output_type": "stream",
     "text": [
      "39814\n"
     ]
    }
   ],
   "source": [
    "x = 0\n",
    "counter = 0\n",
    "\n",
    "while(counter <= 600):\n",
    "    if((counter % 7 == 0 or counter % 9 == 0) and not(counter % 7 == 0 and counter % 9 == 0)):\n",
    "        x = x + counter\n",
    "    if(counter == 600):\n",
    "        print(x)\n",
    "    counter += 1"
   ]
  },
  {
   "cell_type": "markdown",
   "metadata": {
    "id": "8SmvPvfaSK5P"
   },
   "source": [
    "### Task 6\n",
    "Write a Python code to displays all the **odd numbers** between 10 and 50.\n",
    "\n",
    "Output: 11 13 15 17 19 21 23 25 27 29 31 33 35 37 39 41 43 45 47 49\n"
   ]
  },
  {
   "cell_type": "code",
   "execution_count": 17,
   "metadata": {
    "id": "PJmT9fvuSK5Q"
   },
   "outputs": [
    {
     "name": "stdout",
     "output_type": "stream",
     "text": [
      "11 13 15 17 19 21 23 25 27 29 31 33 35 37 39 41 43 45 47 49 "
     ]
    }
   ],
   "source": [
    "counter = 10\n",
    "\n",
    "while(counter >= 10 and counter <= 50):\n",
    "    if(counter % 2 != 0):\n",
    "        print(counter, end =\" \")\n",
    "    counter += 1"
   ]
  },
  {
   "cell_type": "markdown",
   "metadata": {
    "id": "Nw4dX_MeSK5V"
   },
   "source": [
    "### Task 7\n",
    "Write a Python code that will calculate the **value of y if the expression** of y is as follows (n is the input):  \n",
    "\n",
    "$y = 1^2 - 2^2 +3^2 -4^2 +5^2 .........+ n^2 $\n",
    "\n",
    "\n",
    "==========================================================\n",
    "\n",
    "**Example01:** \n",
    "\n",
    "**Input:**\\\n",
    "10\n",
    "\n",
    "**Output:**\\\n",
    "-55\n",
    "\n",
    "==========================================================\n",
    "\n",
    "**Example02:** \n",
    "\n",
    "**Input:**\\\n",
    "20\n",
    "\n",
    "**Output:**\\\n",
    "-210\n",
    "\n"
   ]
  },
  {
   "cell_type": "code",
   "execution_count": 48,
   "metadata": {
    "id": "BbJe-7AuSK5V"
   },
   "outputs": [
    {
     "name": "stdout",
     "output_type": "stream",
     "text": [
      "10\n",
      "-55\n"
     ]
    }
   ],
   "source": [
    "sum = 0\n",
    "user_input = int(input())\n",
    "\n",
    "for count in range(1, user_input + 1):\n",
    "    if(count % 2 != 0):\n",
    "        count = (count**2)\n",
    "    else:\n",
    "        count = (count**2) * (-1)\n",
    "    sum += count\n",
    "print(sum)"
   ]
  },
  {
   "cell_type": "markdown",
   "metadata": {
    "id": "SgvBqJ9PSK5l"
   },
   "source": [
    "### Task 8\n",
    "\n",
    "Write a Python code of a program that asks the user to enter ten numbers then display the total and the average of **ONLY** the **odd numbers** among those ten numbers. <font color='red'>[Use of list is completely unnecesary for this task]</font>\n",
    "\n",
    "==========================================================\n",
    "\n",
    "**Example01:** \n",
    "\n",
    "**Input:**\\\n",
    "1\n",
    "\n",
    "2\n",
    "\n",
    "3\n",
    "\n",
    "4\n",
    "\n",
    "5\n",
    "\n",
    "6\n",
    "\n",
    "7\n",
    "\n",
    "8\n",
    "\n",
    "9\n",
    "\n",
    "10\n",
    "\n",
    "**Output:**\n",
    "Total is 25 and Average is 5.0\n",
    "\n",
    "\n",
    "**Explanation:**\n",
    "\n",
    "Total is 25 = (1+3+5+7+9) and Average is 25/5 = 5.0\n",
    "\n",
    "==========================================================\n",
    "\n",
    "\n",
    "**Example02:** \n",
    "\n",
    "**Input:**\\\n",
    "-20\n",
    "\n",
    "3\n",
    "\n",
    "-5\n",
    "\n",
    "40\n",
    "\n",
    "-17\n",
    "\n",
    "9\n",
    "\n",
    "20\n",
    "\n",
    "-8\n",
    "\n",
    "99\n",
    "  \n",
    "-200\n",
    "\n",
    "**Output:**\n",
    "\n",
    "Total is 89 and Average is 17.8\n",
    "\n",
    "\n",
    "**Explanation:**\n",
    "\n",
    "Total is 89 =(3+(-5)+(-17)+9+99) and Average is 89/5 = 17.8\n",
    "\n"
   ]
  },
  {
   "cell_type": "code",
   "execution_count": 49,
   "metadata": {
    "id": "c0akirXXSK5m"
   },
   "outputs": [
    {
     "name": "stdout",
     "output_type": "stream",
     "text": [
      "-20\n",
      "3\n",
      "-5\n",
      "40\n",
      "-17\n",
      "9\n",
      "20\n",
      "-8\n",
      "99\n",
      "-200\n",
      "Total is  89 Average is  17.8\n"
     ]
    }
   ],
   "source": [
    "total=0 \n",
    "count=0 \n",
    "\n",
    "for i in range(0, 10):\n",
    "    num = int(input())\n",
    "    if(num % 2 != 0):\n",
    "        total += num \n",
    "        count += 1 \n",
    "\n",
    "average = total / count\n",
    "print(\"Total is \", total , \"and Average is \", average)"
   ]
  },
  {
   "cell_type": "markdown",
   "metadata": {
    "id": "cGdMk_vuSK5s"
   },
   "source": [
    "### Task 9\n",
    "Write a Python code for the following:\n",
    "* Ask the user to enter a Number, N\n",
    "* Display the summation of multiples of 7 up to that number (**from 1 to N inclusive**)\n",
    "\n",
    "==========================================================\n",
    "\n",
    "**Example01:** \n",
    "\n",
    "**Input:**\\\n",
    "50\n",
    "\n",
    "**Output:**\\\n",
    "196\n",
    "\n",
    "**Explanation:**\\\n",
    "7 + 14 + 21 + 28 + 35 + 42 + 49 = 196\n",
    "\n",
    "==========================================================\n",
    "\n",
    "**Example02:** \n",
    "\n",
    "**Input:**\\\n",
    "75\n",
    "\n",
    "**Output:**\\\n",
    "385\n",
    "\n",
    "**Explanation:**\\\n",
    "7 + 14 + 21 + 28 + 35 + 42 + 49 + 56 + 63 + 70 = 385\n",
    "\n",
    "\n",
    "\n"
   ]
  },
  {
   "cell_type": "code",
   "execution_count": 51,
   "metadata": {
    "id": "zLsrA8dSSK5t"
   },
   "outputs": [
    {
     "name": "stdout",
     "output_type": "stream",
     "text": [
      "50\n",
      "196\n"
     ]
    }
   ],
   "source": [
    "user_input = int(input())\n",
    "new_counter = 0\n",
    "\n",
    "counter = 0\n",
    "\n",
    "while(counter <= user_input):\n",
    "    if(counter % 7 == 0):\n",
    "        new_counter += counter\n",
    "    if(counter == user_input):\n",
    "        print(new_counter)\n",
    "        break\n",
    "    counter += 1"
   ]
  },
  {
   "cell_type": "markdown",
   "metadata": {
    "id": "OZ9pVIvhSK5w"
   },
   "source": [
    "### Task 10\n",
    "Write a Python code that will read 10 numbers from the user, and then print the first number, the sum of the first 2 numbers, the sum of the first 3 numbers, and so on up to the sum of 10 numbers.\n",
    "\n",
    "==========================================================\n",
    "\n",
    "\n",
    "For example,\n",
    "\n",
    "The user enters 10, output 10, then \\\n",
    "The user enters 2, (10+2) = 12, output 12, then \\\n",
    "The user enters 4, (10+2+4) = 16, output 16, then \\\n",
    "The user enters 20, (10+2+4+20) = 36, output 36, and continues till the 10$^{th}$ input\n"
   ]
  },
  {
   "cell_type": "code",
   "execution_count": 52,
   "metadata": {
    "id": "FCwYrfGGSK5w"
   },
   "outputs": [
    {
     "name": "stdout",
     "output_type": "stream",
     "text": [
      "Input: 10\n",
      "Output: 10\n",
      "Input: 12\n",
      "Output: 22\n",
      "Input: 1\n",
      "Output: 23\n",
      "Input: 2\n",
      "Output: 25\n",
      "Input: 3\n",
      "Output: 28\n",
      "Input: 2\n",
      "Output: 30\n",
      "Input: 45\n",
      "Output: 75\n",
      "Input: 65\n",
      "Output: 140\n",
      "Input: 84\n",
      "Output: 224\n",
      "Input: 87\n",
      "Output: 311\n"
     ]
    }
   ],
   "source": [
    "total=0 \n",
    "count=0 \n",
    "\n",
    "for i in range(0, 10):\n",
    "    num = int(input(\"Input: \"))\n",
    "    total += num\n",
    "    print(\"Output:\",total)"
   ]
  },
  {
   "cell_type": "markdown",
   "metadata": {
    "id": "dUsVuzILSK50"
   },
   "source": [
    "### Task 11\n",
    "Write a Python program that takes a number from the user and prints its digits from left to right. <font color='red'> (left to right) </font>\n",
    "\n",
    "<font color='red'>[The input number has to be an INTEGER]</font>\n",
    "\n",
    "=========================================================================\n",
    "\n",
    "**Example:** if the user gives 32768, then print 3, 2, 7, 6, 8 \n",
    "\n",
    "=========================================================================\n",
    "\n",
    "**Hint:**  The input() function, converts the input data to String data type by default. Use this knowledge to solve this problem.\n"
   ]
  },
  {
   "cell_type": "code",
   "execution_count": 53,
   "metadata": {
    "id": "6uX3wr_gSK51",
    "scrolled": true
   },
   "outputs": [
    {
     "name": "stdout",
     "output_type": "stream",
     "text": [
      "123489\n",
      "1,2,3,4,8,9"
     ]
    }
   ],
   "source": [
    "number = int(input())\n",
    "str_number = str(number)\n",
    "\n",
    "for num in str_number:\n",
    "    new_num = num.rstrip(',')\n",
    "    if(num == str_number[-1]):\n",
    "        print(new_num, end=\"\")\n",
    "    else:\n",
    "        print(new_num, end=\",\")"
   ]
  },
  {
   "cell_type": "markdown",
   "metadata": {
    "id": "xWxrM53vvfUV"
   },
   "source": [
    "\n",
    "\n",
    "\n",
    "### Task 12\n",
    "Write a Python program which takes a number and prints the digits from the unit place, then the tenth, then hundredth, etc. <font color='red'>(Right to Left)</font>\n",
    "\n",
    "<font color='red'>[Consider the input number to be an INTEGER]</font>\n",
    "\n",
    "**Example:** If the user gives 32768, then print 8, 6, 7, 2, 3 \n",
    "\n",
    "=========================================================================\n",
    "\n",
    "**Hint:**  The input() function, converts the input data to String data type by default. Use this knowledge to solve this problem.\n",
    "\n"
   ]
  },
  {
   "cell_type": "code",
   "execution_count": 68,
   "metadata": {
    "id": "2Ntfdr2tv230"
   },
   "outputs": [
    {
     "name": "stdout",
     "output_type": "stream",
     "text": [
      "32768\n",
      "8,6,7,2,3"
     ]
    }
   ],
   "source": [
    "number = int(input())\n",
    "str_num = str(number)\n",
    "counter = 0\n",
    "\n",
    "while(counter != number):\n",
    "    digit = number % 10\n",
    "    number = number // 10\n",
    "    if(number != 0):\n",
    "        print(digit, end =\",\")\n",
    "    else:\n",
    "        print(digit, end =\"\")"
   ]
  },
  {
   "cell_type": "markdown",
   "metadata": {
    "id": "VIeR6DT9SK53"
   },
   "source": [
    "### Task 13\n",
    "\n",
    "Write a Python program that takes a number and tells how many digits are in that number. \\\n",
    "<font color='red'>[Consider the input number has to be an INTEGER] </font>\n",
    "\n",
    "<font color='red'>You are not allowed to use len() function</font>\n",
    "\n",
    "**Example:** If the user gives 9876, you should print 4. \n",
    "\n",
    "\n",
    "\n",
    "**Hint:** Keep floor dividing by ten and count how many times this could be divided. \n",
    "\n",
    "9876 floor divide by 10, is 987, count that got 1 digit (total 1) \\\n",
    "987 floor divide by 10, is 98, count that got 1 digit (total 2) \\\n",
    "98 floor divide by 10, is 9, count that got 1 digit (total 3) \\\n",
    "9 floor divide by 10, is 0, count that got 1 digit (total 4) \n",
    "\n",
    "Done! (When the number becomes 0 your loop should end.)\n",
    "\n"
   ]
  },
  {
   "cell_type": "code",
   "execution_count": 5,
   "metadata": {
    "id": "IgqcBx8eSK54"
   },
   "outputs": [
    {
     "name": "stdout",
     "output_type": "stream",
     "text": [
      "9876\n",
      "4\n"
     ]
    }
   ],
   "source": [
    "number = int(input())\n",
    "counter = 0\n",
    "\n",
    "while(number != 0):\n",
    "    number = number // 10\n",
    "    counter += 1\n",
    "print(counter)"
   ]
  },
  {
   "cell_type": "markdown",
   "metadata": {
    "id": "fTbwwo3mSK6A"
   },
   "source": [
    "### Task 14\n",
    "\n",
    "Write a Python program that takes a number from the user and prints the divisors of that number and then print how many divisors were there.\n",
    "<font color='red'>[The input number has to be an INTEGER]</font>\n",
    "\n",
    "==========================================================\n",
    "\n",
    "**Example01:** \n",
    "\n",
    "**Input:**\\\n",
    "6\n",
    "\n",
    "**Output:**\\\n",
    "1, 2, 3, 6 \\\n",
    "Total 4 divisors.\n",
    "\n",
    "\n",
    "==========================================================\n",
    "\n",
    "**Example02:** \n",
    "\n",
    "**Input:**\\\n",
    "121\n",
    "\n",
    "**Output:**\\\n",
    "1, 11, 121 \\\n",
    "Total 3 divisors.\n",
    "\n",
    "\n"
   ]
  },
  {
   "cell_type": "code",
   "execution_count": 58,
   "metadata": {
    "id": "aFSd6sYXSK6A"
   },
   "outputs": [
    {
     "name": "stdout",
     "output_type": "stream",
     "text": [
      "6\n",
      "1,2,3,6\n",
      "Total 4 divisors.\n"
     ]
    }
   ],
   "source": [
    "number = int(input())\n",
    "str_number = str(number)\n",
    "counter = 0\n",
    "\n",
    "for div in range(1, number + 1):\n",
    "    if(number % div == 0):\n",
    "        if(div == number):\n",
    "            print(div, end = \"\")\n",
    "        else:\n",
    "            print(div, end = \",\")\n",
    "        counter += 1\n",
    "print(\"\\nTotal\",counter, \"divisors.\")"
   ]
  },
  {
   "cell_type": "markdown",
   "metadata": {
    "id": "swvpit_vSK6E"
   },
   "source": [
    "### Task 15\n",
    "Write a Python program that takes a number and tells if it is a perfect number or not. <font color='red'>[The input number has to be an INTEGER]</font>\n",
    "\n",
    "**Perfect Number:** An integer number is said to be a perfect number if its factors, including 1 but not the number itself, sum to the number.\n",
    "\n",
    "==========================================================\n",
    "\n",
    "**Example01:** \n",
    "\n",
    "**Input:**\\\n",
    "6\n",
    "\n",
    "**Output:**\\\n",
    "6 is a perfect number\n",
    "\n",
    "**Explanation:**\\\n",
    "6 have 4 divisors: 1, 2, 3, and 6. \\\n",
    "If we add all factors except itself, 6 = 1 + 2 + 3.\n",
    "\n",
    "==========================================================\n",
    "\n",
    "\n",
    "**Example02:** \n",
    "\n",
    "**Input:**\\\n",
    "28\n",
    "\n",
    "**Output:**\\\n",
    "28 is a perfect number\n",
    "\n",
    "**Explanation:**\\\n",
    "28 have 6 divisors: 1, 2, 4, 7, 14, and 28. \\\n",
    "If we add all factors except itself, 28 = 1 + 2 + 4 + 7 + 14.\n",
    "\n",
    "==========================================================\n",
    "\n",
    "**Example03:** \n",
    "\n",
    "**Input:**\\\n",
    "33\n",
    "\n",
    "**Output:**\\\n",
    "33 is not a perfect number\n",
    "\n",
    "**Explanation:**\\\n",
    "33 have 3 divisors: 1, 3, 11, and 33. \\\n",
    "If we add all factors except itself, 15 = 1 + 3 + 11.\n",
    "\n"
   ]
  },
  {
   "cell_type": "code",
   "execution_count": 71,
   "metadata": {
    "id": "WxrTdQ67SK6E"
   },
   "outputs": [
    {
     "name": "stdout",
     "output_type": "stream",
     "text": [
      "33\n",
      "33 is not a perfect number\n"
     ]
    }
   ],
   "source": [
    "sum = 0\n",
    "number = int(input())\n",
    "\n",
    "for div in range(1, number + 1):\n",
    "    if(number % div == 0 and number != div):\n",
    "        sum += div\n",
    "    \n",
    "if(sum == number):\n",
    "    print(number,\"is a perfect number\")\n",
    "else:\n",
    "    print(number,\"is not a perfect number\")"
   ]
  },
  {
   "cell_type": "markdown",
   "metadata": {
    "id": "JunF6mTuSK6H"
   },
   "source": [
    "### Task 16\n",
    "\n",
    "Write a Python program that asks the user for one number and tells if it is a prime number or not. <font color='red'>[The input number has to be an INTEGER]</font>\n",
    "\n",
    "**Prime Number:** If a number has only two divisors, (1 and itself), then it is prime. If it is divisible by more numbers, then it is not a prime.\n",
    "\n",
    "==========================================================\n",
    "\n",
    "**Hint:** use the divisor count from task 16. \n",
    "\n",
    "==========================================================\n",
    "\n",
    "**Example01:** \n",
    "\n",
    "**Input:**\\\n",
    "11\n",
    "\n",
    "**Output:**\\\n",
    "11 is a prime number\n",
    "\n",
    "**Explanation:**\\\n",
    "11 has only 2 divisors: 1, and 11.\n",
    "\n",
    "==========================================================\n",
    "\n",
    "**Example02:** \n",
    "\n",
    "**Input:**\\\n",
    "6\n",
    "\n",
    "**Output:**\\\n",
    "6 is not a prime number\n",
    "\n",
    "**Explanation:**\\\n",
    "6 have 4 divisors: 1, 2, 3 and 6.\n",
    "\n",
    "\n",
    "\n",
    "\n"
   ]
  },
  {
   "cell_type": "code",
   "execution_count": 62,
   "metadata": {
    "id": "s_UhmEARSK6I"
   },
   "outputs": [
    {
     "name": "stdout",
     "output_type": "stream",
     "text": [
      "11\n",
      "11 is a prime number\n"
     ]
    }
   ],
   "source": [
    "number = int(input())\n",
    "\n",
    "if(number > 1):\n",
    "    for div in range(2, number):\n",
    "        if(number % div == 0):\n",
    "            print(number,\"is not a prime number\")\n",
    "            break\n",
    "        else:\n",
    "            print(number,\"is a prime number\")\n",
    "            break\n",
    "else:\n",
    "    (number,\"is not a prime number\")"
   ]
  },
  {
   "cell_type": "markdown",
   "metadata": {
    "id": "2LrNlU1XSK6L"
   },
   "source": [
    "### Task 17\n",
    "\n",
    "Write a Python program that asks the user for a quantity then takes that many numbers and prints the maximum, minimum and average of those numbers. \n",
    "\n",
    "**<font color='red'>[CANNOT USE MAX,MIN BUILT-IN FUNCTIONS][FOR THIS TASK YOU DO NOT NEED TO USE LISTS]</font>** \n",
    "\n",
    "==========================================================\n",
    "\n",
    "**Example01:** If the user enters 5 as an input for quantity. Then enters 10, 4, -1, -100, and 1. \\\n",
    "Your program output should be: “Maximum 10”, “Minimum -100”, “Average is -17.2”\n",
    "\n",
    "**Input:**\\\n",
    "5\n",
    "10\n",
    "4\n",
    "-1\n",
    "-100\n",
    "1.\n",
    "\n",
    "**Output:**\\\n",
    "Maximum 10\\\n",
    "Minimum -100\\\n",
    "Average is -17.2\n",
    "\n",
    "**Explanation:**\\\n",
    "Average calculation: (10+4 + (-1) + (-100) + 1)/5 = -86/5=-17.2\n",
    "\n"
   ]
  },
  {
   "cell_type": "code",
   "execution_count": 4,
   "metadata": {
    "id": "TK68v25sSK6L"
   },
   "outputs": [
    {
     "name": "stdout",
     "output_type": "stream",
     "text": [
      "5\n",
      "10\n",
      "1\n",
      "4\n",
      "-100\n",
      "-1\n",
      "Maximum 10\n",
      "Minimum -100\n",
      "Average is -17.2\n"
     ]
    }
   ],
   "source": [
    "quantity = int(input())\n",
    "max = 0\n",
    "min = 0\n",
    "total = 0\n",
    "count = 0\n",
    "\n",
    "for i in range(0, quantity):\n",
    "    num = int(input())\n",
    "    total += num\n",
    "    count += 1\n",
    "    if(num > max):\n",
    "        max = num\n",
    "    elif(num < min):\n",
    "        min = num\n",
    "\n",
    "print(\"Maximum\" ,max)\n",
    "print(\"Minimum\" ,min)\n",
    "print(\"Average is\",total / count)"
   ]
  },
  {
   "cell_type": "markdown",
   "metadata": {
    "id": "QLXvNSiOxhlI"
   },
   "source": [
    "## Task 18\n",
    "\n",
    "Write a python program that prints a square of size N using + where N will be given as input.\n",
    "\n",
    "=======================================\n",
    "\n",
    "**Sample Input**\n",
    "5\n",
    "\n",
    "**Sample Output**<br>\n",
    "+++++<br>\n",
    "+++++<br>\n",
    "+++++<br>\n",
    "+++++<br>\n",
    "+++++<br>\n",
    "\n",
    "\n",
    "=======================================\n",
    "\n",
    "**Sample Input**\n",
    "3\n",
    "\n",
    "**Sample Output**<br>\n",
    "+++<br>\n",
    "+++<br>\n",
    "+++<br>"
   ]
  },
  {
   "cell_type": "code",
   "execution_count": 72,
   "metadata": {
    "id": "nuU0BJmQwsSa"
   },
   "outputs": [
    {
     "name": "stdout",
     "output_type": "stream",
     "text": [
      "3\n",
      "+++\n",
      "+++\n",
      "+++\n"
     ]
    }
   ],
   "source": [
    "N = int(input())\n",
    "\n",
    "for out_counter in range(N):\n",
    "    for in_counter in range(N):\n",
    "        print(\"+\", end=\"\")\n",
    "    print()"
   ]
  },
  {
   "cell_type": "markdown",
   "metadata": {
    "id": "9tK1-MjFwqM-"
   },
   "source": [
    "### Task 19\n",
    "\n",
    "Write a python program that prints a rectangle of size M (height/line numbers) and N(length/column numbers) using incrementing numbers where M,N will be given as input.\n",
    "\n",
    "===================================\n",
    "\n",
    "**Sample Input**\n",
    "4,6\n",
    "\n",
    "**Sample Output**<br>\n",
    "123456<br>\n",
    "123456<br>\n",
    "123456<br>\n",
    "123456<br>\n",
    "\n",
    "\n",
    "===================================\n",
    "\n",
    "\n",
    "**Sample Input**\n",
    "3,2\n",
    "\n",
    "**Sample Output**<br>\n",
    "12<br>\n",
    "12<br>\n",
    "12<br>\n"
   ]
  },
  {
   "cell_type": "code",
   "execution_count": 63,
   "metadata": {
    "id": "KcyhD8gNxYdi"
   },
   "outputs": [
    {
     "name": "stdout",
     "output_type": "stream",
     "text": [
      "5,6\n",
      "123456\n",
      "123456\n",
      "123456\n",
      "123456\n",
      "123456\n"
     ]
    }
   ],
   "source": [
    "M,N = input().split(',')\n",
    "height = int(M)\n",
    "length = int(N)\n",
    "\n",
    "for out_counter in range(1, height + 1):\n",
    "    for in_counter in range(1, length + 1):\n",
    "        print(in_counter, end=\"\")\n",
    "    print()"
   ]
  },
  {
   "cell_type": "markdown",
   "metadata": {
    "id": "ReUpRcLuw0_b"
   },
   "source": [
    "### Task 20\n",
    "\n",
    "Write a python program that prints a right angled triangle of height N using incrementing numbers where N will be given as input.\n",
    "\n",
    "====================================\n",
    "\n",
    "**Sample Input**\n",
    "4\n",
    "\n",
    "**Sample Output**<br>\n",
    "1<br>\n",
    "12<br>\n",
    "123<br>\n",
    "1234<br>\n",
    "\n",
    "====================================\n",
    "\n",
    "**Sample Input**\n",
    "5\n",
    "\n",
    "**Sample Output**<br>\n",
    "1<br>\n",
    "12<br>\n",
    "123<br>\n",
    "1234<br>\n",
    "12345<br>"
   ]
  },
  {
   "cell_type": "code",
   "execution_count": 64,
   "metadata": {
    "id": "UtqBxocnxai9"
   },
   "outputs": [
    {
     "name": "stdout",
     "output_type": "stream",
     "text": [
      "7\n",
      "1\n",
      "12\n",
      "123\n",
      "1234\n",
      "12345\n",
      "123456\n",
      "1234567\n"
     ]
    }
   ],
   "source": [
    "number = int(input())\n",
    "\n",
    "for out_counter in range(1, number + 1):\n",
    "    for in_counter in range(1, out_counter+1):\n",
    "        print(in_counter, end=\"\")\n",
    "    print()"
   ]
  },
  {
   "cell_type": "markdown",
   "metadata": {
    "id": "AWbbbs5mSK6O"
   },
   "source": [
    "## Optional Tasks (21 -26) [Ungraded]"
   ]
  },
  {
   "cell_type": "markdown",
   "metadata": {
    "id": "a0SjEWlsw6Vt"
   },
   "source": [
    "### Task 21\n",
    "\n",
    "Write a python program that prints all the fibonacci number from 0 to N where N will be given. \n",
    "\n",
    "**A Fibonacci number is a number which is the summation of its previous two fibonacci number.**\n",
    "\n",
    "First two fibonacci number are 0 and 1. So the 3rd Fib will be 0+1=1, 4th Fib will be 1+1=2, 5th Fib will be 1+2=3 and so on.\n",
    "\n",
    "==============================\n",
    "\n",
    "**Sample Input**<br>\n",
    "10\n",
    "\n",
    "**Sample Output**<br>\n",
    "0 1 1 2 3 5 8\n",
    "\n",
    "==============================\n",
    "\n",
    "\n",
    "**Sample Input**<br>\n",
    "15\n",
    "\n",
    "**Sample Output**<br>\n",
    "0 1 1 2 3 5 8 13"
   ]
  },
  {
   "cell_type": "code",
   "execution_count": null,
   "metadata": {
    "id": "vQhQFFBWx-h0"
   },
   "outputs": [],
   "source": [
    "#Todo"
   ]
  },
  {
   "cell_type": "markdown",
   "metadata": {
    "id": "bByH1fWsw7av"
   },
   "source": [
    "### Task 22\n",
    "\n",
    "Write a python program that converts a Decimal Integer number to a Binary Number. \n",
    "\n",
    "**A decimal can be converted to a binary number by keeping track of the remainders after each division of that number by 2. **\n",
    "\n",
    "================================\n",
    "\n",
    "For example, to convert 10 to a binary number, we can follow the following approach\n",
    "\n",
    "10/2 = 5 (Remainder 0) \n",
    "<br>5/2 = 2 (Remainder 1) \n",
    "<br>2/2 = 1 (Remainder 0) \n",
    "<br>1/2 = 0 (Remainder 1) \n",
    "\n",
    "Take the remainders from bottom to top, which is, 1010. Binary of 10 is 1010.\n",
    "\n",
    "**Sample Input** <br>\n",
    "10\n",
    "\n",
    "**Sample Output**<br>\n",
    "1010\n",
    "\n",
    "================================\n",
    "\n",
    "For example, to convert 13 to a binary number, we can follow the following approach\n",
    "\n",
    "13/2 = 6 (Remainder 1) \n",
    "<br>6/2 = 3 (Remainder 0) \n",
    "<br>3/2 = 1 (Remainder 1) \n",
    "<br>1/2 = 0 (Remainder 1) \n",
    "\n",
    "Take the remainders from bottom to top, which is, 1101. Binary of 13 is 1101.\n",
    "\n",
    "**Sample Input** <br>\n",
    "13\n",
    "\n",
    "**Sample Output**<br>\n",
    "1101"
   ]
  },
  {
   "cell_type": "code",
   "execution_count": null,
   "metadata": {
    "id": "AEXGx3skyBha"
   },
   "outputs": [],
   "source": [
    "#Todo"
   ]
  },
  {
   "cell_type": "markdown",
   "metadata": {
    "id": "g_aR1Ozgw_rr"
   },
   "source": [
    "### Task 23\n",
    "\n",
    "Write a python program that converts a Binary number to a Decimal Integer Number. \n",
    "\n",
    "**A binary number can be converted to its corresponding decimal number by multiplying each binary digit with a power of 2 where the power denotes the position of the binary digit**\n",
    "\n",
    "========================================\n",
    "\n",
    "For example, to convert 1010, we can do this -\n",
    "\n",
    "\n",
    "$2^{3}$ x 1 + $2^{2}$ x 0 + $2^{1}$ x 1 + $2^{0}$ x 0 = 10\n",
    "\n",
    "\n",
    "**Sample Input** <br>\n",
    "1010\n",
    "\n",
    "**Sample Output** <br>\n",
    "10\n",
    "\n",
    "========================================\n",
    "\n",
    "For example, to convert 1101, we can do this -\n",
    "\n",
    "\n",
    "$2^{3}$ x 1 + $2^{2}$ x 1 + $2^{1}$ x 0 + $2^{0}$ x 1 = 13\n",
    "\n",
    "\n",
    "**Sample Input** <br>\n",
    "1101\n",
    "\n",
    "**Sample Output** <br>\n",
    "13"
   ]
  },
  {
   "cell_type": "code",
   "execution_count": null,
   "metadata": {
    "id": "ZZmhMI6VyCky"
   },
   "outputs": [],
   "source": [
    "#Todo"
   ]
  },
  {
   "cell_type": "markdown",
   "metadata": {
    "id": "GymIX5_vSK6Q"
   },
   "source": [
    "### Task 24\n",
    "\n",
    "Take five numbers from the user and find the minimum and the average of **only the even** numbers entered by the user. [If the user enters odd numbers ignore them] \n",
    "\n",
    "**<font color='red'>[CANNOT USE MAX,MIN BUILT-IN FUNCTIONS] [FOR THIS TASK YOU DO NOT NEED TO USE LISTS]</font>** \n",
    "\n",
    "Assume, the first input is always an even number.\n",
    "\n",
    "============================================================\n",
    "\n",
    "**Example01:** If the user enters 10, 4, -1, -100, and 1. \\\n",
    "Output: “Minimum -100”, “Average is 28.66667”\n",
    "\n",
    "**Input:**\\\n",
    "10\n",
    "\n",
    "4\n",
    "\n",
    "-1\n",
    "\n",
    "-100\n",
    "\n",
    "1\n",
    "\n",
    "**Output:**\\\n",
    "Minimum -100\\\n",
    "Average is 28.66667\n",
    "\n",
    "**Explanation:**\\\n",
    "Average calculation: (10+4 + (-100))/3 = -86/3=-28.66667\n",
    "\n",
    "============================================================\n",
    "\n",
    "**Example02:** If the user enters 2, 10, 1, 21, and 3. \\\n",
    "Output: Minimum 2”, “Average is 6.0”\n",
    "\n",
    "**Input:**\\\n",
    "2\n",
    "\n",
    "10\n",
    "\n",
    "1\n",
    "\n",
    "21\n",
    "\n",
    "3\n",
    "\n",
    "**Output:**\\\n",
    "Minimum 2\\\n",
    "Average is 6.0\n",
    "\n",
    "**Explanation:**\\\n",
    "Average calculation: (2+10)/2 = 12/2= 6\n",
    "\n",
    "\n",
    "\n"
   ]
  },
  {
   "cell_type": "code",
   "execution_count": null,
   "metadata": {
    "id": "CnrBzeq1SK6R"
   },
   "outputs": [],
   "source": [
    "#Todo"
   ]
  },
  {
   "cell_type": "markdown",
   "metadata": {
    "id": "F2iSIEcHSK6U"
   },
   "source": [
    "### Task 25\n",
    "\n",
    "Write a Python code for the following:\n",
    "* Ask the user to enter a number, N (Total number of inputs to be taken). Assume that the user will never enter the first number as zero.\n",
    "* Take N number of inputs\n",
    "* Prints out the product of all the numbers read\n",
    "\n",
    "For example, if the first input is 4, then the program has to read in four numbers from the user and print the product of these four numbers. \n",
    "\n",
    "=========================================================================\n",
    "\n",
    "**Example01:**\n",
    "\n",
    "**Input:**\\\n",
    "5 \n",
    "\n",
    "10 \n",
    "\n",
    "6 \n",
    "\n",
    "4 \n",
    "\n",
    "2 \n",
    "\n",
    "1 \n",
    "\n",
    "**Output:**\\\n",
    "480\n",
    "\n",
    "**Explanation:**\\\n",
    "5 is the total number of inputs taken. Then, the calculation should be 10 X 6 X 4 X 2 X 1 = 480 \n",
    "\n",
    "\n",
    "\n",
    "\n",
    "\n"
   ]
  },
  {
   "cell_type": "code",
   "execution_count": null,
   "metadata": {
    "id": "NFDi7tjZSK6U"
   },
   "outputs": [],
   "source": [
    "#Todo"
   ]
  },
  {
   "cell_type": "markdown",
   "metadata": {
    "id": "1Ef3zxQsSK6Y"
   },
   "source": [
    "### Task 26\n",
    "Ask the user for a range (a starting number and an ending number). \n",
    "**Count** how many numbers are prime numbers and how many numbers are perfect numbers between that range and **print** those numbers. \n",
    "\n",
    "\n",
    "=========================================================================\n",
    "\n",
    "**Hint (1):** Declare two strings/lists to store the prime and perfect numbers. Inside the iteration store the values of the prime and perfect numbers in the pre- declared variables.\n",
    "\n",
    "**Hint (2):**\n",
    "\n",
    "\n",
    "ans = \"Prime numbers: \"\\\n",
    "prime_value = 11\n",
    "ans = ans + str(prime_value) + \" \"\\\n",
    "print(ans)\n",
    "\n",
    "ans = ans + str(13) + \" \"\\\n",
    "print(ans)\n",
    "\n",
    "*Output:*\n",
    "\n",
    "Prime numbers: 11 \\\n",
    "Prime numbers: 11 13 \n",
    "\n",
    "=========================================================================\n",
    "\n",
    "**Example:**between 2 and 6, there are 3 prime numbers (2, 3, 5) and 1 perfect number (6). \n",
    "\n",
    "**Input:**\\\n",
    "2\n",
    "\n",
    "6\n",
    "\n",
    "**Output:**\\\n",
    "Between 2 and 6,\\\n",
    "Found 3 prime numbers \\\n",
    "Found 1 perfect number\\\n",
    "Prime numbers: 2  3  5 \\\n",
    "Perfect numbers: 6 \n",
    "\n"
   ]
  },
  {
   "cell_type": "code",
   "execution_count": null,
   "metadata": {
    "id": "_YU9xdPBSK6Y"
   },
   "outputs": [],
   "source": [
    "#Todo\n"
   ]
  }
 ],
 "metadata": {
  "colab": {
   "collapsed_sections": [],
   "name": "CSE110 Lab Assignment 2.ipynb",
   "provenance": []
  },
  "kernelspec": {
   "display_name": "Python 3 (ipykernel)",
   "language": "python",
   "name": "python3"
  },
  "language_info": {
   "codemirror_mode": {
    "name": "ipython",
    "version": 3
   },
   "file_extension": ".py",
   "mimetype": "text/x-python",
   "name": "python",
   "nbconvert_exporter": "python",
   "pygments_lexer": "ipython3",
   "version": "3.9.2"
  }
 },
 "nbformat": 4,
 "nbformat_minor": 1
}
